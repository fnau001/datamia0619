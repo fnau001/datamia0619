{
 "cells": [
  {
   "cell_type": "markdown",
   "metadata": {},
   "source": [
    "# Game of the Chance\n",
    "\n",
    "## Become a Poker Master\n",
    "\n",
    "We have shown you how to use Python to calculate the probabilities and odds of the *royal flush* and *straight flush* in poker. How about other poker hands? In this lab your goal is to calculate the probabilities of all hands. We are skipping the calculation of odds because once you know how to calculate the probability you'll know how to calcualte the odd of a hand.\n",
    "\n",
    "Below is a partial table on calculating the poker probabilities. The math formulas for *three of a kind*, *two pair*, *one pair*, and *no-pair* have been ignored.\n",
    "\n",
    "| Cards | Hand | Distinct hands | Frequency | Probability | Odds | Math expression |\n",
    "| --- | --- | --- | --- | --- | --- | ---- |\n",
    "| ![](royal-flush.jpeg) | Royal flush | 1 | 4 | 0.000154% | 649,740 : 1  | ![](royal-flush.svg)  | \n",
    "| ![](straight-flush.jpeg) | Straight flush (excluding royal flush) | 9 | 36 | 0.00139% | 72,192 : 1   | ![](straight-flush.svg) | \n",
    "| ![](four-of-kind.jpeg) | Four of a kind | 156 |  624 |   0.0240% | 4,165 : 1 | ![](four-of-kind.svg) |\n",
    "| ![](full-house.jpeg) | Full house | 156  | 3,744     | 0.1441% |  | 693 : 1  | ![](full-house.svg) | \n",
    "| ![](flush.jpeg) | Flush (excluding royal flush and straight flush) | 1,277 |     5,108    | 0.1965%   | 508 : 1   | ![](flush.svg) | \n",
    "| ![](straight.jpeg) | Straight (excluding royal flush and straight flush) | 10 | 10,200    | 0.3925%   |  254 : 1 | ![](straight.svg) |\n",
    "| ![](three-of-kind.jpeg) | Three of a kind | 858 | 54,912 |    2.1128%  | 46.3 : 1  | ? |\n",
    "| ![](two-pair.jpeg) | Two pair |  858  | 123,552   | 4.7539%   | 21.0 : 1  | ? | \n",
    "| ![](one-pair.jpeg) | One pair | 2,860     | 1,098,240     | 42.2569%  | 1.37 : 1  | ? | \n",
    "| ![](no-pair.jpeg) | No pair | 1,277   | 1,302,540     | 50.1177%  | 0.995 : 1 | ? | "
   ]
  },
  {
   "cell_type": "markdown",
   "metadata": {},
   "source": [
    "## Challenge 1: *four of a kind*, *full house*, *flush*, and *straight*\n",
    "\n",
    "In the cell below, calculate the probability of getting each of the following hands:\n",
    "\n",
    "* *four of a kind*\n",
    "* *full house*\n",
    "* *flush*\n",
    "* *straight*\n",
    "\n",
    "Assign your results to these variables: `four_of_a_kind`, `full_house`, `flush`, and `straight`.\n",
    "\n",
    "The math formulas are provided for you for these hands so it should be very straightforward. Check if your calculated probabilities are the same as shown in the table above."
   ]
  },
  {
   "cell_type": "code",
   "execution_count": 37,
   "metadata": {},
   "outputs": [],
   "source": [
    "# your code here\n",
    "four_of_a_kind = -1\n",
    "full_house = -1\n",
    "flush = -1\n",
    "straight = -1"
   ]
  },
  {
   "cell_type": "markdown",
   "metadata": {},
   "source": [
    "## Challenge 2: *three of a kind*, *two pair*, *one pair*, and *no pair*\n",
    "\n",
    "In the cell below, calculate the probability of getting each of the following hands:\n",
    "\n",
    "* *three of a kind*\n",
    "* *two pair*\n",
    "* *one pair*\n",
    "* *no pair*\n",
    "\n",
    "Assign your results to these variables: `three_of_a_kind`, `two_pair`, `one_pair`, and `no_pair`.\n",
    "\n",
    "These questions are more and more complicated and you need to figure out the math formulas by yourself. Check if your calculated probabilities are the same as shown in the table above."
   ]
  },
  {
   "cell_type": "code",
   "execution_count": 38,
   "metadata": {},
   "outputs": [],
   "source": [
    "# your code here\n",
    "three_of_a_kind = -1\n",
    "two_pair = -1\n",
    "one_pair = -1\n",
    "no_pair = -1"
   ]
  },
  {
   "cell_type": "code",
   "execution_count": 39,
   "metadata": {},
   "outputs": [],
   "source": [
    "from scipy.special import comb\n",
    "probs = {\n",
    "    'royal flush': [4/comb(52, 5), 'royal-flush.jpeg', 'royal-flush.svg'],\n",
    "    'straight flush': [(comb(10,1)*comb(4,1)-comb(4,1))/comb(52, 5), 'straight-flush.jpeg', 'straight-flush.svg'],\n",
    "    'four of a kind': [four_of_a_kind, 'four-of-kind.jpeg', 'four-of-kind.svg'],\n",
    "    'full house': [-1, 'full-house.jpeg', 'full-house.svg'],\n",
    "    'flush': [-1, 'flush.jpeg', 'flush.svg'],\n",
    "    'straight': [-1, 'straight.jpeg', 'straight.svg'],\n",
    "    'three of a kind': [-1, 'three-of-kind.jpeg', 'three-of-kind.svg'],\n",
    "    'two pair': [-1, 'two-pair.jpeg', 'two-pair.svg'],\n",
    "    'one pair': [-1, 'one-pair.jpeg', 'one-pair.svg'],\n",
    "    'no pair': [-1, 'no-pair.jpeg', 'no-pair.svg'],\n",
    "}"
   ]
  },
  {
   "cell_type": "code",
   "execution_count": null,
   "metadata": {},
   "outputs": [],
   "source": []
  },
  {
   "cell_type": "code",
   "execution_count": 40,
   "metadata": {},
   "outputs": [
    {
     "data": {
      "text/html": [
       "<table style=\"width:100%;\"><tr><th>Cards</th><th>Hand</th><th>Probability</th><th>Math Expression</th></tr><tr><td><img src=\"royal-flush.jpeg\" style=\"float:right;\" /></td><td>royal flush</td><td>0.000154%</td><td><img src=\"royal-flush.svg\" style=\"float:right;\" /></td></tr><tr><td><img src=\"straight-flush.jpeg\" style=\"float:right;\" /></td><td>straight flush</td><td>0.001385%</td><td><img src=\"straight-flush.svg\" style=\"float:right;\" /></td></tr><tr><td><img src=\"four-of-kind.jpeg\" style=\"float:right;\" /></td><td>four of a kind</td><td>-100.000000%</td><td><img src=\"four-of-kind.svg\" style=\"float:right;\" /></td></tr><tr><td><img src=\"full-house.jpeg\" style=\"float:right;\" /></td><td>full house</td><td>-100.000000%</td><td><img src=\"full-house.svg\" style=\"float:right;\" /></td></tr><tr><td><img src=\"flush.jpeg\" style=\"float:right;\" /></td><td>flush</td><td>-100.000000%</td><td><img src=\"flush.svg\" style=\"float:right;\" /></td></tr><tr><td><img src=\"straight.jpeg\" style=\"float:right;\" /></td><td>straight</td><td>-100.000000%</td><td><img src=\"straight.svg\" style=\"float:right;\" /></td></tr><tr><td><img src=\"three-of-kind.jpeg\" style=\"float:right;\" /></td><td>three of a kind</td><td>-100.000000%</td><td><img src=\"three-of-kind.svg\" style=\"float:right;\" /></td></tr><tr><td><img src=\"two-pair.jpeg\" style=\"float:right;\" /></td><td>two pair</td><td>-100.000000%</td><td><img src=\"two-pair.svg\" style=\"float:right;\" /></td></tr><tr><td><img src=\"one-pair.jpeg\" style=\"float:right;\" /></td><td>one pair</td><td>-100.000000%</td><td><img src=\"one-pair.svg\" style=\"float:right;\" /></td></tr><tr><td><img src=\"no-pair.jpeg\" style=\"float:right;\" /></td><td>no pair</td><td>-100.000000%</td><td><img src=\"no-pair.svg\" style=\"float:right;\" /></td></tr></table>"
      ],
      "text/plain": [
       "<IPython.core.display.HTML object>"
      ]
     },
     "metadata": {},
     "output_type": "display_data"
    }
   ],
   "source": [
    "from IPython.display import HTML, display\n",
    "\n",
    "def format_prob(prob):\n",
    "    return \"{}%\".format(format(prob*100, '.6f'))\n",
    "\n",
    "def get_image_html(src):\n",
    "    return '<img src=\"{}\" style=\"float:right;\" />'.format(src)\n",
    "\n",
    "display(HTML(\n",
    "   '<table style=\"width:100%;\"><tr><th>Cards</th><th>Hand</th><th>Probability</th><th>Math Expression</th></tr><tr>{}</tr></table>'.format(\n",
    "       '</tr><tr>'.join(\n",
    "           '<td>{}</td>'.format('</td><td>'.join([get_image_html(val[1]), key, format_prob(val[0]), get_image_html(val[2])])) for key, val in probs.items())\n",
    "       )\n",
    "))"
   ]
  },
  {
   "cell_type": "markdown",
   "metadata": {},
   "source": [
    "| Cards | Hand | Distinct hands | Frequency | Probability | Odds | Math expression |\n",
    "| --- | --- | --- | --- | --- | --- | ---- |\n",
    "| ![](royal-flush.jpeg) | Royal flush | 1 | 4 | 0.000154% | 649,740 : 1  | ![](royal-flush.svg)  | \n",
    "| ![](straight-flush.jpeg) | Straight flush (excluding royal flush) | 9 | 36 | 0.00139% | 72,192 : 1   | ![](straight-flush.svg) | \n",
    "| ![](four-of-kind.jpeg) | Four of a kind | 156 |  624 |   0.0240% | 4,165 : 1 | ![](four-of-kind.svg) |\n",
    "| ![](full-house.jpeg) | Full house | 156  | 3,744     | 0.1441% |  | 693 : 1  | ![](full-house.svg) | \n",
    "| ![](flush.jpeg) | Flush (excluding royal flush and straight flush) | 1,277 |     5,108    | 0.1965%   | 508 : 1   | ![](flush.svg) | \n",
    "| ![](straight.jpeg) | Straight (excluding royal flush and straight flush) | 10 | 10,200    | 0.3925%   |  254 : 1 | ![](straight.svg) |\n",
    "| ![](three-of-kind.jpeg) | Three of a kind | 858 | 54,912 |    2.1128%  | 46.3 : 1  | ![](three-of-kind.svg) |\n",
    "| ![](two-pair.jpeg) | Two pair |  858  | 123,552   | 4.7539%   | 21.0 : 1  | ![](two-pair.svg) | \n",
    "| ![](one-pair.jpeg) | One pair | 2,860     | 1,098,240     | 42.2569%  | 1.37 : 1  | ![](one-pair.svg) | \n",
    "| ![](no-pair.jpeg) | No pair | 1,277   | 1,302,540     | 50.1177%  | 0.995 : 1 | ![](no-pair.svg) | "
   ]
  }
 ],
 "metadata": {
  "kernelspec": {
   "display_name": "Python 3",
   "language": "python",
   "name": "python3"
  },
  "language_info": {
   "codemirror_mode": {
    "name": "ipython",
    "version": 3
   },
   "file_extension": ".py",
   "mimetype": "text/x-python",
   "name": "python",
   "nbconvert_exporter": "python",
   "pygments_lexer": "ipython3",
   "version": "3.7.2"
  }
 },
 "nbformat": 4,
 "nbformat_minor": 2
}
