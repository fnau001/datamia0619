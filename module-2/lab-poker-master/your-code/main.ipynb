{
 "cells": [
  {
   "cell_type": "markdown",
   "metadata": {},
   "source": [
    "# Game of the Chance\n",
    "\n",
    "In the lesson we have shown you how to use Python to calculate the probabilities and odds of the *royal flush* and *straight flush* in poker. In this lab you will calculate the probabilities of all hands. We are skipping calculating odds because once you know how to calculate probabilities you'll know how to calcualte odds.\n",
    "\n",
    "Below is a partial table on calculating the poker probabilities. We purposefully skip the math formulas for *three of a kind*, *two pair*, *one pair*, and *no-pair* because we would like you to figure them out.\n",
    "\n",
    "| Cards | Hand | Distinct hands | Frequency | Probability | Formula |\n",
    "| --- | --- | --- | --- | --- | --- |\n",
    "| ![](royal-flush.jpeg) | Royal flush | 1 | 4 | 0.000154% | ![](royal-flush.svg)  | \n",
    "| ![](straight-flush.jpeg) | Straight flush (excluding royal flush) | 9 | 36 | 0.00139% | ![](straight-flush.svg) | \n",
    "| ![](four-of-kind.jpeg) | Four of a kind | 156 |  624 |   0.0240% | ![](four-of-kind.svg) |\n",
    "| ![](full-house.jpeg) | Full house | 156  | 3,744 | 0.1441%  | ![](full-house.svg) | \n",
    "| ![](flush.jpeg) | Flush (excluding royal flush and straight flush) | 1,277 |     5,108    | 0.1965% | ![](flush.svg) | \n",
    "| ![](straight.jpeg) | Straight (excluding royal flush and straight flush) | 10 | 10,200    | 0.3925% | ![](straight.svg) |\n",
    "| ![](three-of-kind.jpeg) | Three of a kind | 858 | 54,912 | 2.1128% | ? |\n",
    "| ![](two-pair.jpeg) | Two pair | 858 | 123,552   | 4.7539% | ? | \n",
    "| ![](one-pair.jpeg) | One pair | 2,860 | 1,098,240 | 42.2569%  | ? | \n",
    "| ![](no-pair.jpeg) | No pair | 1,277 | 1,302,540 | 50.1177% | ? | "
   ]
  },
  {
   "cell_type": "markdown",
   "metadata": {},
   "source": [
    "## Challenge 1: *four of a kind*, *full house*, *flush*, and *straight*\n",
    "\n",
    "In the cell below, calculate the probability of getting each of the following hands:\n",
    "\n",
    "* *four of a kind*\n",
    "* *full house*\n",
    "* *flush*\n",
    "* *straight*\n",
    "\n",
    "Assign your results to these variables: `four_of_a_kind`, `full_house`, `flush`, and `straight`.\n",
    "\n",
    "The math formulas are provided for you for those hands so it should be very straightforward. Check if your calculated probabilities are the same as shown in the table above."
   ]
  },
  {
   "cell_type": "code",
   "execution_count": 1,
   "metadata": {},
   "outputs": [],
   "source": [
    "# your code here\n",
    "four_of_a_kind = -1\n",
    "full_house = -1\n",
    "flush = -1\n",
    "straight = -1"
   ]
  },
  {
   "cell_type": "markdown",
   "metadata": {},
   "source": [
    "## Challenge 2: *three of a kind*, *two pair*, *one pair*, and *no pair*\n",
    "\n",
    "In the cell below, calculate the probability of getting each of the following hands:\n",
    "\n",
    "* *three of a kind*\n",
    "* *two pair*\n",
    "* *one pair*\n",
    "* *no pair*\n",
    "\n",
    "Assign your results to these variables: `three_of_a_kind`, `two_pair`, `one_pair`, and `no_pair`.\n",
    "\n",
    "These questions are more complicated and you need to figure out the math formulas by yourself. Check if your calculated probabilities are the same as shown in the table above.\n",
    "\n",
    "*If you are really stuck and frustrated you may scroll down to where we give you all the math formulas. But try not to look at them until you lose half of your hair.* 😏"
   ]
  },
  {
   "cell_type": "code",
   "execution_count": 2,
   "metadata": {},
   "outputs": [],
   "source": [
    "# your code here\n",
    "three_of_a_kind = -1\n",
    "two_pair = -1\n",
    "one_pair = -1\n",
    "no_pair = -1"
   ]
  },
  {
   "cell_type": "markdown",
   "metadata": {},
   "source": [
    "### Show your probabilities in table\n",
    "\n",
    "Execute the following cell to display the probabilities you calculated.\n",
    "\n",
    "In the code below, we also show you an example on:\n",
    "\n",
    "* How to format a float number as percentage.\n",
    "\n",
    "* How to print a table in HTML to display the values in a Python dictionary.\n",
    "\n",
    "Try to understand how the code works. In the future you may use it in your own projects."
   ]
  },
  {
   "cell_type": "code",
   "execution_count": null,
   "metadata": {},
   "outputs": [],
   "source": [
    "from scipy.special import comb\n",
    "from IPython.display import HTML, display\n",
    "\n",
    "probs = {\n",
    "    'royal flush': [4/comb(52, 5), 'royal-flush.jpeg', 'royal-flush.svg'],\n",
    "    'straight flush': [(comb(10,1)*comb(4,1)-comb(4,1))/comb(52, 5), 'straight-flush.jpeg', 'straight-flush.svg'],\n",
    "    'four of a kind': [four_of_a_kind, 'four-of-kind.jpeg', 'four-of-kind.svg'],\n",
    "    'full house': [full_house, 'full-house.jpeg', 'full-house.svg'],\n",
    "    'flush': [flush, 'flush.jpeg', 'flush.svg'],\n",
    "    'straight': [straight, 'straight.jpeg', 'straight.svg'],\n",
    "    'three of a kind': [three_of_a_kind, 'three-of-kind.jpeg', 'three-of-kind.svg'],\n",
    "    'two pair': [two_pair, 'two-pair.jpeg', 'two-pair.svg'],\n",
    "    'one pair': [one_pair, 'one-pair.jpeg', 'one-pair.svg'],\n",
    "    'no pair': [no_pair, 'no-pair.jpeg', 'no-pair.svg'],\n",
    "}\n",
    "\n",
    "def format_prob(prob):\n",
    "    return \"{}%\".format(format(prob*100, '.6f'))\n",
    "\n",
    "def get_image_html(src):\n",
    "    return '<img src=\"{}\" style=\"float:right;\" />'.format(src)\n",
    "\n",
    "display(HTML(\n",
    "   '<table style=\"width:100%;\"><tr><th>Cards</th><th>Hand</th><th>Probability</th><th>Math Expression</th></tr><tr>{}</tr></table>'.format(\n",
    "       '</tr><tr>'.join(\n",
    "           '<td>{}</td>'.format('</td><td>'.join([get_image_html(val[1]), key, format_prob(val[0]), get_image_html(val[2])])) for key, val in probs.items())\n",
    "       )\n",
    "))"
   ]
  },
  {
   "cell_type": "markdown",
   "metadata": {},
   "source": [
    "## Bonus challenge: Using odds in real poker game\n",
    "\n",
    "But understanding how to calculate probabilities and odds does not automatically make you a poker master. Additional learning is required. So let's take [Texas Hold'em](https://www.youtube.com/watch?v=KKMac6tQKiI) as an example where you are in the simpliest scenario playing against a single opponent.\n",
    "\n",
    "### Pot odds\n",
    "\n",
    "First, you need to understand what are **pot odds** -- the amount of money in the pot versus the amount you need to put down in order to stay in the hand. For example, if the pot has 10 dollars and your opponent bet 5 dollars, in order to follow you need to to bet 5 dollars. At this time, the pot odds is:\n",
    "\n",
    "```\n",
    "5 : (10 + 5) = 5 : 15 = 1 : 3\n",
    "```\n",
    "\n",
    "The 1:3 pot odds means for every 1 dollar you bet you win 3 dollars."
   ]
  },
  {
   "cell_type": "markdown",
   "metadata": {},
   "source": [
    "### Outs\n",
    "\n",
    "**Outs** are the number of cards you need in order to win the hand. To count the outs you need to take into consideration what cards have been shown on the table and what cards you need in order to obtain a better hand than your opponent. For example, consider the following scenario:\n",
    "\n",
    "| Your hand: | ![](hj.png) | ![](h8.png) | . | . | . | . | . | . | . |\n",
    "| --- | --- | --- | --- | --- | --- | --- | --- | --- | --- |\n",
    "| **Dealer lays out:** | ![](h1.png) | ![](hk.png) | ![](c8.png) | ![](s7.png) | . | . | . | . | . | . | . | . | . | . |\n",
    "| **Opponent's hand (unknown):** | ![](unknown.png) | ![](unknown.png) | . | . | . | . | . | . | . | . | . | . | . | . |\n",
    "| **Cards to make you win:** | ![](h2.png) | ![](h3.png) | ![](h4.png) | ![](h5.png) |![](h6.png) | ![](h7.png) | ![](h9.png) | ![](h10.png) | ![](hq.png) |\n",
    "\n",
    "To win, you need the 9 cards as shown in the table above that will give you a flush. Thus 9 is your outs."
   ]
  },
  {
   "cell_type": "markdown",
   "metadata": {},
   "source": [
    "### Use outs to calculate your odds to win\n",
    "\n",
    "In the example above, 6 cards have been shown on the table which means 52-6=46 cards are unseen (including the remaining deck plus the 2 cards in your opponent's hand). And you have 9 outs. Therefore, your odds to win is:\n",
    "\n",
    "```\n",
    "(46 - 9) : 9 = 37 : 9\n",
    "```\n",
    "\n",
    "This is approximately 4:1, meaning you're 4 times likely to lose than to win. Considering the pot odds which is 1:3, it does not worth for you to continue this hand. You should fold.\n",
    "\n",
    "Of course in real playing it's 100 more complex than the scenario we have. But the basic principle is the same: **don't take the risk if the risk won't bring you a higher return of your bet**. After mastering the probabilistic principles, then you can mix in the human factors such as telling whether your opponent is bluffing."
   ]
  }
 ],
 "metadata": {
  "kernelspec": {
   "display_name": "Python 3",
   "language": "python",
   "name": "python3"
  },
  "language_info": {
   "codemirror_mode": {
    "name": "ipython",
    "version": 3
   },
   "file_extension": ".py",
   "mimetype": "text/x-python",
   "name": "python",
   "nbconvert_exporter": "python",
   "pygments_lexer": "ipython3",
   "version": "3.7.2"
  }
 },
 "nbformat": 4,
 "nbformat_minor": 2
}
