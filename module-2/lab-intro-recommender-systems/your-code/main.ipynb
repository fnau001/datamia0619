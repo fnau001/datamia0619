{
 "cells": [
  {
   "cell_type": "markdown",
   "metadata": {},
   "source": [
    "# Intro to Recommender Systems Lab\n",
    "\n",
    "Complete the exercises below to solidify your knowledge and understanding of recommender systems.\n",
    "\n",
    "For this lab, we are going to be putting together a user similarity based recommender system in a step-by-step fashion. Our data set contains customer grocery purchases, and we will use similar purchase behavior to inform our recommender system. Our recommender system will generate 5 recommendations for each customer based on the purchases they have made."
   ]
  },
  {
   "cell_type": "code",
   "execution_count": 1,
   "metadata": {},
   "outputs": [],
   "source": [
    "import pandas as pd\n",
    "from scipy.spatial.distance import pdist, squareform"
   ]
  },
  {
   "cell_type": "code",
   "execution_count": 3,
   "metadata": {},
   "outputs": [],
   "source": [
    "data = pd.read_csv('../data/customer_product_sales.csv')"
   ]
  },
  {
   "cell_type": "code",
   "execution_count": 11,
   "metadata": {},
   "outputs": [
    {
     "data": {
      "text/html": [
       "<div>\n",
       "<style scoped>\n",
       "    .dataframe tbody tr th:only-of-type {\n",
       "        vertical-align: middle;\n",
       "    }\n",
       "\n",
       "    .dataframe tbody tr th {\n",
       "        vertical-align: top;\n",
       "    }\n",
       "\n",
       "    .dataframe thead th {\n",
       "        text-align: right;\n",
       "    }\n",
       "</style>\n",
       "<table border=\"1\" class=\"dataframe\">\n",
       "  <thead>\n",
       "    <tr style=\"text-align: right;\">\n",
       "      <th></th>\n",
       "      <th>CustomerID</th>\n",
       "      <th>FirstName</th>\n",
       "      <th>LastName</th>\n",
       "      <th>SalesID</th>\n",
       "      <th>ProductID</th>\n",
       "      <th>ProductName</th>\n",
       "      <th>Quantity</th>\n",
       "    </tr>\n",
       "  </thead>\n",
       "  <tbody>\n",
       "    <tr>\n",
       "      <th>0</th>\n",
       "      <td>61288</td>\n",
       "      <td>Rosa</td>\n",
       "      <td>Andersen</td>\n",
       "      <td>134196</td>\n",
       "      <td>229</td>\n",
       "      <td>Bread - Hot Dog Buns</td>\n",
       "      <td>16</td>\n",
       "    </tr>\n",
       "    <tr>\n",
       "      <th>1</th>\n",
       "      <td>77352</td>\n",
       "      <td>Myron</td>\n",
       "      <td>Murray</td>\n",
       "      <td>6167892</td>\n",
       "      <td>229</td>\n",
       "      <td>Bread - Hot Dog Buns</td>\n",
       "      <td>20</td>\n",
       "    </tr>\n",
       "    <tr>\n",
       "      <th>2</th>\n",
       "      <td>40094</td>\n",
       "      <td>Susan</td>\n",
       "      <td>Stevenson</td>\n",
       "      <td>5970885</td>\n",
       "      <td>229</td>\n",
       "      <td>Bread - Hot Dog Buns</td>\n",
       "      <td>11</td>\n",
       "    </tr>\n",
       "    <tr>\n",
       "      <th>3</th>\n",
       "      <td>23548</td>\n",
       "      <td>Tricia</td>\n",
       "      <td>Vincent</td>\n",
       "      <td>6426954</td>\n",
       "      <td>229</td>\n",
       "      <td>Bread - Hot Dog Buns</td>\n",
       "      <td>6</td>\n",
       "    </tr>\n",
       "    <tr>\n",
       "      <th>4</th>\n",
       "      <td>78981</td>\n",
       "      <td>Scott</td>\n",
       "      <td>Burch</td>\n",
       "      <td>819094</td>\n",
       "      <td>229</td>\n",
       "      <td>Bread - Hot Dog Buns</td>\n",
       "      <td>20</td>\n",
       "    </tr>\n",
       "  </tbody>\n",
       "</table>\n",
       "</div>"
      ],
      "text/plain": [
       "   CustomerID FirstName   LastName  SalesID  ProductID           ProductName  \\\n",
       "0       61288      Rosa   Andersen   134196        229  Bread - Hot Dog Buns   \n",
       "1       77352     Myron     Murray  6167892        229  Bread - Hot Dog Buns   \n",
       "2       40094     Susan  Stevenson  5970885        229  Bread - Hot Dog Buns   \n",
       "3       23548    Tricia    Vincent  6426954        229  Bread - Hot Dog Buns   \n",
       "4       78981     Scott      Burch   819094        229  Bread - Hot Dog Buns   \n",
       "\n",
       "   Quantity  \n",
       "0        16  \n",
       "1        20  \n",
       "2        11  \n",
       "3         6  \n",
       "4        20  "
      ]
     },
     "execution_count": 11,
     "metadata": {},
     "output_type": "execute_result"
    }
   ],
   "source": [
    "data.head()"
   ]
  },
  {
   "cell_type": "markdown",
   "metadata": {},
   "source": [
    "## Step 1: Create a data frame that contains the total quantity of each product purchased by each customer.\n",
    "\n",
    "You will need to group by CustomerID and ProductName and then sum the Quantity field."
   ]
  },
  {
   "cell_type": "code",
   "execution_count": 20,
   "metadata": {},
   "outputs": [],
   "source": [
    "data_agg = data.groupby(['CustomerID', 'ProductName']).agg({'Quantity':'sum'})"
   ]
  },
  {
   "cell_type": "markdown",
   "metadata": {},
   "source": [
    "## Step 2: Use the `pivot_table` method to create a product by customer matrix.\n",
    "\n",
    "The rows of the matrix should represent the products, the columns should represent the customers, and the values should be the quantities of each product purchased by each customer. You will also need to replace nulls with zeros, which you can do using the `fillna` method."
   ]
  },
  {
   "cell_type": "code",
   "execution_count": 15,
   "metadata": {},
   "outputs": [],
   "source": [
    "data_pivot = pd.pivot_table(data, index=['ProductName'], \n",
    "                            values = ['Quantity'], columns = ['CustomerID']).fillna(0)"
   ]
  },
  {
   "cell_type": "markdown",
   "metadata": {},
   "source": [
    "## Step 3: Create a customer similarity matrix using `squareform` and `pdist`. For the distance metric, choose \"euclidean.\""
   ]
  },
  {
   "cell_type": "code",
   "execution_count": 17,
   "metadata": {},
   "outputs": [],
   "source": [
    "from scipy.spatial.distance import pdist, squareform\n",
    "\n",
    "matrix = squareform(pdist(data_pivot.T, 'euclidean'))"
   ]
  },
  {
   "cell_type": "markdown",
   "metadata": {},
   "source": [
    "## Step 4: Check your results by generating a list of the top 5 most similar customers for a specific CustomerID."
   ]
  },
  {
   "cell_type": "code",
   "execution_count": 39,
   "metadata": {},
   "outputs": [
    {
     "data": {
      "text/plain": [
       "          CustomerID\n",
       "Quantity  3909          0.095358\n",
       "          264           0.093953\n",
       "          3531          0.093953\n",
       "          2503          0.093498\n",
       "          3305          0.093051\n",
       "Name: 33, dtype: float64"
      ]
     },
     "execution_count": 39,
     "metadata": {},
     "output_type": "execute_result"
    }
   ],
   "source": [
    "distances = pd.DataFrame(1/ (1 + matrix),\n",
    "                         index = data_pivot.columns, columns = data_pivot.columns)\n",
    "\n",
    "top_five_similarities = distances['Quantity'][33].sort_values(ascending= False)[1:6] # using cust ID 33\n",
    "\n",
    "top_five_similarities"
   ]
  },
  {
   "cell_type": "markdown",
   "metadata": {},
   "source": [
    "## Step 5: From the data frame you created in Step 1, select the records for the list of similar CustomerIDs you obtained in Step 4."
   ]
  },
  {
   "cell_type": "code",
   "execution_count": 55,
   "metadata": {},
   "outputs": [],
   "source": [
    "customers = top_five_similarities.unstack().columns.values"
   ]
  },
  {
   "cell_type": "code",
   "execution_count": 56,
   "metadata": {},
   "outputs": [
    {
     "data": {
      "text/html": [
       "<div>\n",
       "<style scoped>\n",
       "    .dataframe tbody tr th:only-of-type {\n",
       "        vertical-align: middle;\n",
       "    }\n",
       "\n",
       "    .dataframe tbody tr th {\n",
       "        vertical-align: top;\n",
       "    }\n",
       "\n",
       "    .dataframe thead th {\n",
       "        text-align: right;\n",
       "    }\n",
       "</style>\n",
       "<table border=\"1\" class=\"dataframe\">\n",
       "  <thead>\n",
       "    <tr style=\"text-align: right;\">\n",
       "      <th></th>\n",
       "      <th></th>\n",
       "      <th>Quantity</th>\n",
       "    </tr>\n",
       "    <tr>\n",
       "      <th>CustomerID</th>\n",
       "      <th>ProductName</th>\n",
       "      <th></th>\n",
       "    </tr>\n",
       "  </thead>\n",
       "  <tbody>\n",
       "    <tr>\n",
       "      <th>5434</th>\n",
       "      <th>Skirt - 29 Foot</th>\n",
       "      <td>2</td>\n",
       "    </tr>\n",
       "    <tr>\n",
       "      <th>412</th>\n",
       "      <th>Cheese - Camembert</th>\n",
       "      <td>1</td>\n",
       "    </tr>\n",
       "    <tr>\n",
       "      <th>4723</th>\n",
       "      <th>Cinnamon Buns Sticky</th>\n",
       "      <td>2</td>\n",
       "    </tr>\n",
       "    <tr>\n",
       "      <th>2939</th>\n",
       "      <th>Bread - Italian Corn Meal Poly</th>\n",
       "      <td>1</td>\n",
       "    </tr>\n",
       "    <tr>\n",
       "      <th>4261</th>\n",
       "      <th>Soup Knorr Chili With Beans</th>\n",
       "      <td>2</td>\n",
       "    </tr>\n",
       "  </tbody>\n",
       "</table>\n",
       "</div>"
      ],
      "text/plain": [
       "                                           Quantity\n",
       "CustomerID ProductName                             \n",
       "5434       Skirt - 29 Foot                        2\n",
       "412        Cheese - Camembert                     1\n",
       "4723       Cinnamon Buns Sticky                   2\n",
       "2939       Bread - Italian Corn Meal Poly         1\n",
       "4261       Soup Knorr Chili With Beans            2"
      ]
     },
     "execution_count": 56,
     "metadata": {},
     "output_type": "execute_result"
    }
   ],
   "source": [
    "data_agg.iloc[customers]"
   ]
  },
  {
   "cell_type": "markdown",
   "metadata": {},
   "source": [
    "## Step 6: Aggregate those customer purchase records by ProductName, sum the Quantity field, and then rank them in descending order by quantity.\n",
    "\n",
    "This will give you the total number of each product purchased by the 5 most similar customers to the customer you selected in order from most purchased to least."
   ]
  },
  {
   "cell_type": "code",
   "execution_count": 63,
   "metadata": {},
   "outputs": [],
   "source": [
    "quant = data[data['CustomerID'].isin(customers)].groupby('ProductName').agg({'Quantity':'sum'}).sort_values(by='Quantity', ascending =False)"
   ]
  },
  {
   "cell_type": "code",
   "execution_count": 64,
   "metadata": {},
   "outputs": [
    {
     "data": {
      "text/html": [
       "<div>\n",
       "<style scoped>\n",
       "    .dataframe tbody tr th:only-of-type {\n",
       "        vertical-align: middle;\n",
       "    }\n",
       "\n",
       "    .dataframe tbody tr th {\n",
       "        vertical-align: top;\n",
       "    }\n",
       "\n",
       "    .dataframe thead th {\n",
       "        text-align: right;\n",
       "    }\n",
       "</style>\n",
       "<table border=\"1\" class=\"dataframe\">\n",
       "  <thead>\n",
       "    <tr style=\"text-align: right;\">\n",
       "      <th></th>\n",
       "      <th>Quantity</th>\n",
       "    </tr>\n",
       "    <tr>\n",
       "      <th>ProductName</th>\n",
       "      <th></th>\n",
       "    </tr>\n",
       "  </thead>\n",
       "  <tbody>\n",
       "    <tr>\n",
       "      <th>Salsify, Organic</th>\n",
       "      <td>4</td>\n",
       "    </tr>\n",
       "    <tr>\n",
       "      <th>Quiche Assorted</th>\n",
       "      <td>3</td>\n",
       "    </tr>\n",
       "    <tr>\n",
       "      <th>Chocolate - Dark</th>\n",
       "      <td>3</td>\n",
       "    </tr>\n",
       "    <tr>\n",
       "      <th>Wine - Charddonnay Errazuriz</th>\n",
       "      <td>3</td>\n",
       "    </tr>\n",
       "    <tr>\n",
       "      <th>Bay Leaf</th>\n",
       "      <td>3</td>\n",
       "    </tr>\n",
       "  </tbody>\n",
       "</table>\n",
       "</div>"
      ],
      "text/plain": [
       "                              Quantity\n",
       "ProductName                           \n",
       "Salsify, Organic                     4\n",
       "Quiche Assorted                      3\n",
       "Chocolate - Dark                     3\n",
       "Wine - Charddonnay Errazuriz         3\n",
       "Bay Leaf                             3"
      ]
     },
     "execution_count": 64,
     "metadata": {},
     "output_type": "execute_result"
    }
   ],
   "source": [
    "quant.head()"
   ]
  },
  {
   "cell_type": "markdown",
   "metadata": {},
   "source": [
    "## Step 7: Filter the list for products that the chosen customer has not yet purchased and then recommend the top 5 products with the highest quantities that are left.\n",
    "\n",
    "- Merge the ranked products data frame with the customer product matrix on the ProductName field.\n",
    "- Filter for records where the chosen customer has not purchased the product.\n",
    "- Show the top 5 results."
   ]
  },
  {
   "cell_type": "code",
   "execution_count": 71,
   "metadata": {},
   "outputs": [],
   "source": [
    "products_purchased = data[data['CustomerID'] == 33].groupby('ProductName').agg({'Quantity':'sum'}).T.columns.values"
   ]
  },
  {
   "cell_type": "code",
   "execution_count": 96,
   "metadata": {},
   "outputs": [],
   "source": [
    "not_purchased = [product for product in quant.index.values if product not in products_purchased]"
   ]
  },
  {
   "cell_type": "code",
   "execution_count": 112,
   "metadata": {},
   "outputs": [
    {
     "data": {
      "text/html": [
       "<div>\n",
       "<style scoped>\n",
       "    .dataframe tbody tr th:only-of-type {\n",
       "        vertical-align: middle;\n",
       "    }\n",
       "\n",
       "    .dataframe tbody tr th {\n",
       "        vertical-align: top;\n",
       "    }\n",
       "\n",
       "    .dataframe thead th {\n",
       "        text-align: right;\n",
       "    }\n",
       "</style>\n",
       "<table border=\"1\" class=\"dataframe\">\n",
       "  <thead>\n",
       "    <tr style=\"text-align: right;\">\n",
       "      <th></th>\n",
       "      <th>ProductName</th>\n",
       "      <th>Quantity</th>\n",
       "    </tr>\n",
       "  </thead>\n",
       "  <tbody>\n",
       "    <tr>\n",
       "      <th>0</th>\n",
       "      <td>Chocolate - Dark</td>\n",
       "      <td>3</td>\n",
       "    </tr>\n",
       "    <tr>\n",
       "      <th>1</th>\n",
       "      <td>Wine - Charddonnay Errazuriz</td>\n",
       "      <td>3</td>\n",
       "    </tr>\n",
       "    <tr>\n",
       "      <th>2</th>\n",
       "      <td>Bay Leaf</td>\n",
       "      <td>3</td>\n",
       "    </tr>\n",
       "    <tr>\n",
       "      <th>3</th>\n",
       "      <td>Oranges - Navel, 72</td>\n",
       "      <td>3</td>\n",
       "    </tr>\n",
       "    <tr>\n",
       "      <th>4</th>\n",
       "      <td>Wine - Ej Gallo Sierra Valley</td>\n",
       "      <td>3</td>\n",
       "    </tr>\n",
       "  </tbody>\n",
       "</table>\n",
       "</div>"
      ],
      "text/plain": [
       "                     ProductName  Quantity\n",
       "0               Chocolate - Dark         3\n",
       "1   Wine - Charddonnay Errazuriz         3\n",
       "2                       Bay Leaf         3\n",
       "3            Oranges - Navel, 72         3\n",
       "4  Wine - Ej Gallo Sierra Valley         3"
      ]
     },
     "execution_count": 112,
     "metadata": {},
     "output_type": "execute_result"
    }
   ],
   "source": [
    "temp = quant.reset_index()\n",
    "recommendations = temp[temp['ProductName'].isin(not_purchased)].head(5).reset_index(drop=True)\n",
    "recommendations"
   ]
  },
  {
   "cell_type": "code",
   "execution_count": 115,
   "metadata": {},
   "outputs": [
    {
     "name": "stdout",
     "output_type": "stream",
     "text": [
      "Recommendations:\n",
      "\n",
      "Chocolate - Dark\n",
      "Wine - Charddonnay Errazuriz\n",
      "Bay Leaf\n",
      "Oranges - Navel, 72\n",
      "Wine - Ej Gallo Sierra Valley\n"
     ]
    }
   ],
   "source": [
    "print('Recommendations:\\n', *recommendations['ProductName'].values, sep='\\n')"
   ]
  },
  {
   "cell_type": "markdown",
   "metadata": {},
   "source": [
    "## Step 8: Now that we have generated product recommendations for a single user, put the pieces together and iterate over a list of all CustomerIDs.\n",
    "\n",
    "- Create an empty dictionary that will hold the recommendations for all customers.\n",
    "- Create a list of unique CustomerIDs to iterate over.\n",
    "- Iterate over the customer list performing steps 4 through 7 for each and appending the results of each iteration to the dictionary you created."
   ]
  },
  {
   "cell_type": "code",
   "execution_count": 124,
   "metadata": {},
   "outputs": [],
   "source": [
    "custIds = data['CustomerID'].unique()\n",
    "cust_dict = {}\n",
    "\n",
    "for custId in custIds:\n",
    "    top_five_similarities = distances['Quantity'][custId].sort_values(ascending= False)[1:6]\n",
    "    customers = top_five_similarities.unstack().columns.values\n",
    "    records =  data_agg.iloc[customers]\n",
    "    quant = data[data['CustomerID'].isin(customers)].groupby('ProductName').agg({'Quantity':'sum'}).sort_values(by='Quantity', ascending =False)\n",
    "    products_purchased = data[data['CustomerID'] == 33].groupby('ProductName').agg({'Quantity':'sum'}).T.columns.values\n",
    "    not_purchased = [product for product in quant.index.values if product not in products_purchased]\n",
    "    temp = quant.reset_index()\n",
    "    recommendations = temp[temp['ProductName'].isin(not_purchased)].head(5).reset_index(drop=True)\n",
    "    cust_dict[custId] = recommendations['ProductName'].values"
   ]
  },
  {
   "cell_type": "markdown",
   "metadata": {},
   "source": [
    "##  Step 9: Store the results in a Pandas data frame. The data frame should a column for Customer ID and then a column for each of the 5 product recommendations for each customer."
   ]
  },
  {
   "cell_type": "code",
   "execution_count": 138,
   "metadata": {
    "scrolled": true
   },
   "outputs": [
    {
     "data": {
      "text/html": [
       "<div>\n",
       "<style scoped>\n",
       "    .dataframe tbody tr th:only-of-type {\n",
       "        vertical-align: middle;\n",
       "    }\n",
       "\n",
       "    .dataframe tbody tr th {\n",
       "        vertical-align: top;\n",
       "    }\n",
       "\n",
       "    .dataframe thead th {\n",
       "        text-align: right;\n",
       "    }\n",
       "</style>\n",
       "<table border=\"1\" class=\"dataframe\">\n",
       "  <thead>\n",
       "    <tr style=\"text-align: right;\">\n",
       "      <th></th>\n",
       "      <th>CustomerID</th>\n",
       "      <th>P1</th>\n",
       "      <th>P2</th>\n",
       "      <th>P3</th>\n",
       "      <th>P4</th>\n",
       "      <th>P5</th>\n",
       "    </tr>\n",
       "  </thead>\n",
       "  <tbody>\n",
       "    <tr>\n",
       "      <th>0</th>\n",
       "      <td>61288</td>\n",
       "      <td>Mushrooms - Black, Dried</td>\n",
       "      <td>Wine - Magnotta, Merlot Sr Vqa</td>\n",
       "      <td>Sponge Cake Mix - Chocolate</td>\n",
       "      <td>Beef - Rib Eye Aaa</td>\n",
       "      <td>Chicken - Soup Base</td>\n",
       "    </tr>\n",
       "    <tr>\n",
       "      <th>1</th>\n",
       "      <td>77352</td>\n",
       "      <td>Guinea Fowl</td>\n",
       "      <td>Grenadine</td>\n",
       "      <td>Ecolab - Mikroklene 4/4 L</td>\n",
       "      <td>Oranges - Navel, 72</td>\n",
       "      <td>Coconut - Shredded, Sweet</td>\n",
       "    </tr>\n",
       "    <tr>\n",
       "      <th>2</th>\n",
       "      <td>40094</td>\n",
       "      <td>Water - Mineral, Natural</td>\n",
       "      <td>Pasta - Orecchiette</td>\n",
       "      <td>Oregano - Dry, Rubbed</td>\n",
       "      <td>Wiberg Super Cure</td>\n",
       "      <td>Tea - Decaf Lipton</td>\n",
       "    </tr>\n",
       "    <tr>\n",
       "      <th>3</th>\n",
       "      <td>23548</td>\n",
       "      <td>Wanton Wrap</td>\n",
       "      <td>Spinach - Baby</td>\n",
       "      <td>Tea - English Breakfast</td>\n",
       "      <td>Banana Turning</td>\n",
       "      <td>Bread - Raisin Walnut Oval</td>\n",
       "    </tr>\n",
       "    <tr>\n",
       "      <th>4</th>\n",
       "      <td>78981</td>\n",
       "      <td>Lettuce - Frisee</td>\n",
       "      <td>Longos - Chicken Wings</td>\n",
       "      <td>Pop Shoppe Cream Soda</td>\n",
       "      <td>Crush - Cream Soda</td>\n",
       "      <td>Sprouts - Alfalfa</td>\n",
       "    </tr>\n",
       "  </tbody>\n",
       "</table>\n",
       "</div>"
      ],
      "text/plain": [
       "   CustomerID                        P1                              P2  \\\n",
       "0       61288  Mushrooms - Black, Dried  Wine - Magnotta, Merlot Sr Vqa   \n",
       "1       77352               Guinea Fowl                       Grenadine   \n",
       "2       40094  Water - Mineral, Natural             Pasta - Orecchiette   \n",
       "3       23548               Wanton Wrap                  Spinach - Baby   \n",
       "4       78981          Lettuce - Frisee          Longos - Chicken Wings   \n",
       "\n",
       "                            P3                   P4  \\\n",
       "0  Sponge Cake Mix - Chocolate   Beef - Rib Eye Aaa   \n",
       "1    Ecolab - Mikroklene 4/4 L  Oranges - Navel, 72   \n",
       "2        Oregano - Dry, Rubbed    Wiberg Super Cure   \n",
       "3      Tea - English Breakfast       Banana Turning   \n",
       "4        Pop Shoppe Cream Soda   Crush - Cream Soda   \n",
       "\n",
       "                           P5  \n",
       "0         Chicken - Soup Base  \n",
       "1   Coconut - Shredded, Sweet  \n",
       "2          Tea - Decaf Lipton  \n",
       "3  Bread - Raisin Walnut Oval  \n",
       "4           Sprouts - Alfalfa  "
      ]
     },
     "execution_count": 138,
     "metadata": {},
     "output_type": "execute_result"
    }
   ],
   "source": [
    "columns = ['CustomerID', 'P1', 'P2', 'P3', 'P4', 'P5'] # where P represents 'product'\n",
    "temp = pd.DataFrame(cust_dict).T.reset_index()\n",
    "temp.columns = columns\n",
    "temp.head()"
   ]
  },
  {
   "cell_type": "markdown",
   "metadata": {},
   "source": [
    "## Step 10: Change the distance metric used in Step 3 to something other than euclidean (correlation, cityblock, consine, jaccard, etc.). Regenerate the recommendations for all customers and note the differences."
   ]
  },
  {
   "cell_type": "code",
   "execution_count": 148,
   "metadata": {},
   "outputs": [],
   "source": [
    "matrix = squareform(pdist(data_pivot.T, 'cityblock'))\n",
    "\n",
    "distances = pd.DataFrame(1/ (1 + matrix),\n",
    "                         index = data_pivot.columns, columns = data_pivot.columns)"
   ]
  },
  {
   "cell_type": "code",
   "execution_count": 149,
   "metadata": {},
   "outputs": [],
   "source": [
    "cust_dict = {}\n",
    "\n",
    "for custId in custIds:\n",
    "    top_five_similarities = distances['Quantity'][custId].sort_values(ascending= False)[1:6]\n",
    "    customers = top_five_similarities.unstack().columns.values\n",
    "    records =  data_agg.iloc[customers]\n",
    "    quant = data[data['CustomerID'].isin(customers)].groupby('ProductName').agg({'Quantity':'sum'}).sort_values(by='Quantity', ascending =False)\n",
    "    products_purchased = data[data['CustomerID'] == 33].groupby('ProductName').agg({'Quantity':'sum'}).T.columns.values\n",
    "    not_purchased = [product for product in quant.index.values if product not in products_purchased]\n",
    "    temp = quant.reset_index()\n",
    "    recommendations = temp[temp['ProductName'].isin(not_purchased)].head(5).reset_index(drop=True)\n",
    "    cust_dict[custId] = recommendations['ProductName'].values"
   ]
  },
  {
   "cell_type": "code",
   "execution_count": 150,
   "metadata": {},
   "outputs": [
    {
     "data": {
      "text/html": [
       "<div>\n",
       "<style scoped>\n",
       "    .dataframe tbody tr th:only-of-type {\n",
       "        vertical-align: middle;\n",
       "    }\n",
       "\n",
       "    .dataframe tbody tr th {\n",
       "        vertical-align: top;\n",
       "    }\n",
       "\n",
       "    .dataframe thead th {\n",
       "        text-align: right;\n",
       "    }\n",
       "</style>\n",
       "<table border=\"1\" class=\"dataframe\">\n",
       "  <thead>\n",
       "    <tr style=\"text-align: right;\">\n",
       "      <th></th>\n",
       "      <th>CustomerID</th>\n",
       "      <th>P1</th>\n",
       "      <th>P2</th>\n",
       "      <th>P3</th>\n",
       "      <th>P4</th>\n",
       "      <th>P5</th>\n",
       "    </tr>\n",
       "  </thead>\n",
       "  <tbody>\n",
       "    <tr>\n",
       "      <th>0</th>\n",
       "      <td>61288</td>\n",
       "      <td>Pork - Kidney</td>\n",
       "      <td>Cheese - Boursin, Garlic / Herbs</td>\n",
       "      <td>Wine - Ej Gallo Sierra Valley</td>\n",
       "      <td>Butter - Unsalted</td>\n",
       "      <td>Bay Leaf</td>\n",
       "    </tr>\n",
       "    <tr>\n",
       "      <th>1</th>\n",
       "      <td>77352</td>\n",
       "      <td>Cheese - Camembert</td>\n",
       "      <td>Beef - Montreal Smoked Brisket</td>\n",
       "      <td>Pasta - Angel Hair</td>\n",
       "      <td>Sausage - Liver</td>\n",
       "      <td>Pomello</td>\n",
       "    </tr>\n",
       "    <tr>\n",
       "      <th>2</th>\n",
       "      <td>40094</td>\n",
       "      <td>Wine - Ej Gallo Sierra Valley</td>\n",
       "      <td>Sugar - Fine</td>\n",
       "      <td>Crush - Cream Soda</td>\n",
       "      <td>Tia Maria</td>\n",
       "      <td>Tea - Decaf Lipton</td>\n",
       "    </tr>\n",
       "    <tr>\n",
       "      <th>3</th>\n",
       "      <td>23548</td>\n",
       "      <td>Muffin - Carrot Individual Wrap</td>\n",
       "      <td>Pork - Kidney</td>\n",
       "      <td>Soup - Campbells Tomato Ravioli</td>\n",
       "      <td>Beef - Texas Style Burger</td>\n",
       "      <td>Lamb - Ground</td>\n",
       "    </tr>\n",
       "    <tr>\n",
       "      <th>4</th>\n",
       "      <td>78981</td>\n",
       "      <td>Watercress</td>\n",
       "      <td>Knife Plastic - White</td>\n",
       "      <td>Butter - Unsalted</td>\n",
       "      <td>Smirnoff Green Apple Twist</td>\n",
       "      <td>Beef - Montreal Smoked Brisket</td>\n",
       "    </tr>\n",
       "  </tbody>\n",
       "</table>\n",
       "</div>"
      ],
      "text/plain": [
       "   CustomerID                               P1  \\\n",
       "0       61288                    Pork - Kidney   \n",
       "1       77352               Cheese - Camembert   \n",
       "2       40094    Wine - Ej Gallo Sierra Valley   \n",
       "3       23548  Muffin - Carrot Individual Wrap   \n",
       "4       78981                       Watercress   \n",
       "\n",
       "                                 P2                               P3  \\\n",
       "0  Cheese - Boursin, Garlic / Herbs    Wine - Ej Gallo Sierra Valley   \n",
       "1    Beef - Montreal Smoked Brisket               Pasta - Angel Hair   \n",
       "2                      Sugar - Fine               Crush - Cream Soda   \n",
       "3                     Pork - Kidney  Soup - Campbells Tomato Ravioli   \n",
       "4             Knife Plastic - White                Butter - Unsalted   \n",
       "\n",
       "                           P4                              P5  \n",
       "0           Butter - Unsalted                        Bay Leaf  \n",
       "1             Sausage - Liver                         Pomello  \n",
       "2                   Tia Maria              Tea - Decaf Lipton  \n",
       "3   Beef - Texas Style Burger                   Lamb - Ground  \n",
       "4  Smirnoff Green Apple Twist  Beef - Montreal Smoked Brisket  "
      ]
     },
     "execution_count": 150,
     "metadata": {},
     "output_type": "execute_result"
    }
   ],
   "source": [
    "columns = ['CustomerID', 'P1', 'P2', 'P3', 'P4', 'P5'] # where P represents 'product'\n",
    "temp = pd.DataFrame(cust_dict).T.reset_index()\n",
    "temp.columns = columns\n",
    "temp.head()"
   ]
  },
  {
   "cell_type": "code",
   "execution_count": null,
   "metadata": {},
   "outputs": [],
   "source": []
  }
 ],
 "metadata": {
  "kernelspec": {
   "display_name": "Python 3",
   "language": "python",
   "name": "python3"
  },
  "language_info": {
   "codemirror_mode": {
    "name": "ipython",
    "version": 3
   },
   "file_extension": ".py",
   "mimetype": "text/x-python",
   "name": "python",
   "nbconvert_exporter": "python",
   "pygments_lexer": "ipython3",
   "version": "3.7.0"
  }
 },
 "nbformat": 4,
 "nbformat_minor": 2
}
