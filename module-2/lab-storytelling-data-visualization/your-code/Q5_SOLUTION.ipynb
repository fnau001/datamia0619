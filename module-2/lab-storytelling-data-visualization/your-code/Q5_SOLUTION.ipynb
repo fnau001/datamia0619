{
 "cells": [
  {
   "cell_type": "markdown",
   "metadata": {},
   "source": [
    "# Data Preprocessing"
   ]
  },
  {
   "cell_type": "code",
   "execution_count": 1,
   "metadata": {},
   "outputs": [],
   "source": [
    "# Importing Libraries\n",
    "\n",
    "import pandas as pd\n",
    "import numpy as np\n",
    "import matplotlib.pyplot as plt\n",
    "import seaborn as sns"
   ]
  },
  {
   "cell_type": "code",
   "execution_count": 2,
   "metadata": {},
   "outputs": [],
   "source": [
    "# Loading dataset into our project using pandas library\n",
    "\n",
    "dataset = pd.read_csv(\"data/housing_prices.csv\")"
   ]
  },
  {
   "cell_type": "code",
   "execution_count": 7,
   "metadata": {},
   "outputs": [
    {
     "data": {
      "text/html": [
       "<div>\n",
       "<style scoped>\n",
       "    .dataframe tbody tr th:only-of-type {\n",
       "        vertical-align: middle;\n",
       "    }\n",
       "\n",
       "    .dataframe tbody tr th {\n",
       "        vertical-align: top;\n",
       "    }\n",
       "\n",
       "    .dataframe thead th {\n",
       "        text-align: right;\n",
       "    }\n",
       "</style>\n",
       "<table border=\"1\" class=\"dataframe\">\n",
       "  <thead>\n",
       "    <tr style=\"text-align: right;\">\n",
       "      <th></th>\n",
       "      <th>Id</th>\n",
       "      <th>MSSubClass</th>\n",
       "      <th>MSZoning</th>\n",
       "      <th>LotFrontage</th>\n",
       "      <th>LotArea</th>\n",
       "      <th>Street</th>\n",
       "      <th>Alley</th>\n",
       "      <th>LotShape</th>\n",
       "      <th>LandContour</th>\n",
       "      <th>Utilities</th>\n",
       "      <th>...</th>\n",
       "      <th>PoolArea</th>\n",
       "      <th>PoolQC</th>\n",
       "      <th>Fence</th>\n",
       "      <th>MiscFeature</th>\n",
       "      <th>MiscVal</th>\n",
       "      <th>MoSold</th>\n",
       "      <th>YrSold</th>\n",
       "      <th>SaleType</th>\n",
       "      <th>SaleCondition</th>\n",
       "      <th>SalePrice</th>\n",
       "    </tr>\n",
       "  </thead>\n",
       "  <tbody>\n",
       "    <tr>\n",
       "      <th>0</th>\n",
       "      <td>1</td>\n",
       "      <td>60</td>\n",
       "      <td>RL</td>\n",
       "      <td>65.0</td>\n",
       "      <td>8450</td>\n",
       "      <td>Pave</td>\n",
       "      <td>NaN</td>\n",
       "      <td>Reg</td>\n",
       "      <td>Lvl</td>\n",
       "      <td>AllPub</td>\n",
       "      <td>...</td>\n",
       "      <td>0</td>\n",
       "      <td>NaN</td>\n",
       "      <td>NaN</td>\n",
       "      <td>NaN</td>\n",
       "      <td>0</td>\n",
       "      <td>2</td>\n",
       "      <td>2008</td>\n",
       "      <td>WD</td>\n",
       "      <td>Normal</td>\n",
       "      <td>208500</td>\n",
       "    </tr>\n",
       "    <tr>\n",
       "      <th>1</th>\n",
       "      <td>2</td>\n",
       "      <td>20</td>\n",
       "      <td>RL</td>\n",
       "      <td>80.0</td>\n",
       "      <td>9600</td>\n",
       "      <td>Pave</td>\n",
       "      <td>NaN</td>\n",
       "      <td>Reg</td>\n",
       "      <td>Lvl</td>\n",
       "      <td>AllPub</td>\n",
       "      <td>...</td>\n",
       "      <td>0</td>\n",
       "      <td>NaN</td>\n",
       "      <td>NaN</td>\n",
       "      <td>NaN</td>\n",
       "      <td>0</td>\n",
       "      <td>5</td>\n",
       "      <td>2007</td>\n",
       "      <td>WD</td>\n",
       "      <td>Normal</td>\n",
       "      <td>181500</td>\n",
       "    </tr>\n",
       "    <tr>\n",
       "      <th>2</th>\n",
       "      <td>3</td>\n",
       "      <td>60</td>\n",
       "      <td>RL</td>\n",
       "      <td>68.0</td>\n",
       "      <td>11250</td>\n",
       "      <td>Pave</td>\n",
       "      <td>NaN</td>\n",
       "      <td>IR1</td>\n",
       "      <td>Lvl</td>\n",
       "      <td>AllPub</td>\n",
       "      <td>...</td>\n",
       "      <td>0</td>\n",
       "      <td>NaN</td>\n",
       "      <td>NaN</td>\n",
       "      <td>NaN</td>\n",
       "      <td>0</td>\n",
       "      <td>9</td>\n",
       "      <td>2008</td>\n",
       "      <td>WD</td>\n",
       "      <td>Normal</td>\n",
       "      <td>223500</td>\n",
       "    </tr>\n",
       "    <tr>\n",
       "      <th>3</th>\n",
       "      <td>4</td>\n",
       "      <td>70</td>\n",
       "      <td>RL</td>\n",
       "      <td>60.0</td>\n",
       "      <td>9550</td>\n",
       "      <td>Pave</td>\n",
       "      <td>NaN</td>\n",
       "      <td>IR1</td>\n",
       "      <td>Lvl</td>\n",
       "      <td>AllPub</td>\n",
       "      <td>...</td>\n",
       "      <td>0</td>\n",
       "      <td>NaN</td>\n",
       "      <td>NaN</td>\n",
       "      <td>NaN</td>\n",
       "      <td>0</td>\n",
       "      <td>2</td>\n",
       "      <td>2006</td>\n",
       "      <td>WD</td>\n",
       "      <td>Abnorml</td>\n",
       "      <td>140000</td>\n",
       "    </tr>\n",
       "    <tr>\n",
       "      <th>4</th>\n",
       "      <td>5</td>\n",
       "      <td>60</td>\n",
       "      <td>RL</td>\n",
       "      <td>84.0</td>\n",
       "      <td>14260</td>\n",
       "      <td>Pave</td>\n",
       "      <td>NaN</td>\n",
       "      <td>IR1</td>\n",
       "      <td>Lvl</td>\n",
       "      <td>AllPub</td>\n",
       "      <td>...</td>\n",
       "      <td>0</td>\n",
       "      <td>NaN</td>\n",
       "      <td>NaN</td>\n",
       "      <td>NaN</td>\n",
       "      <td>0</td>\n",
       "      <td>12</td>\n",
       "      <td>2008</td>\n",
       "      <td>WD</td>\n",
       "      <td>Normal</td>\n",
       "      <td>250000</td>\n",
       "    </tr>\n",
       "  </tbody>\n",
       "</table>\n",
       "<p>5 rows × 81 columns</p>\n",
       "</div>"
      ],
      "text/plain": [
       "   Id  MSSubClass MSZoning  LotFrontage  LotArea Street Alley LotShape  \\\n",
       "0   1          60       RL         65.0     8450   Pave   NaN      Reg   \n",
       "1   2          20       RL         80.0     9600   Pave   NaN      Reg   \n",
       "2   3          60       RL         68.0    11250   Pave   NaN      IR1   \n",
       "3   4          70       RL         60.0     9550   Pave   NaN      IR1   \n",
       "4   5          60       RL         84.0    14260   Pave   NaN      IR1   \n",
       "\n",
       "  LandContour Utilities    ...     PoolArea PoolQC Fence MiscFeature MiscVal  \\\n",
       "0         Lvl    AllPub    ...            0    NaN   NaN         NaN       0   \n",
       "1         Lvl    AllPub    ...            0    NaN   NaN         NaN       0   \n",
       "2         Lvl    AllPub    ...            0    NaN   NaN         NaN       0   \n",
       "3         Lvl    AllPub    ...            0    NaN   NaN         NaN       0   \n",
       "4         Lvl    AllPub    ...            0    NaN   NaN         NaN       0   \n",
       "\n",
       "  MoSold YrSold  SaleType  SaleCondition  SalePrice  \n",
       "0      2   2008        WD         Normal     208500  \n",
       "1      5   2007        WD         Normal     181500  \n",
       "2      9   2008        WD         Normal     223500  \n",
       "3      2   2006        WD        Abnorml     140000  \n",
       "4     12   2008        WD         Normal     250000  \n",
       "\n",
       "[5 rows x 81 columns]"
      ]
     },
     "execution_count": 7,
     "metadata": {},
     "output_type": "execute_result"
    }
   ],
   "source": [
    "# Viewing the first few observations of our dataset using head function\n",
    "\n",
    "dataset.head()"
   ]
  },
  {
   "cell_type": "code",
   "execution_count": 8,
   "metadata": {},
   "outputs": [],
   "source": [
    "# Dropping Id column from the dataframe since we have an index\n",
    "\n",
    "dataset.drop(\"Id\", axis = 1, inplace = True)"
   ]
  },
  {
   "cell_type": "code",
   "execution_count": 9,
   "metadata": {},
   "outputs": [
    {
     "name": "stdout",
     "output_type": "stream",
     "text": [
      "Index(['MSSubClass', 'MSZoning', 'LotFrontage', 'LotArea', 'Street', 'Alley',\n",
      "       'LotShape', 'LandContour', 'Utilities', 'LotConfig', 'LandSlope',\n",
      "       'Neighborhood', 'Condition1', 'Condition2', 'BldgType', 'HouseStyle',\n",
      "       'OverallQual', 'OverallCond', 'YearBuilt', 'YearRemodAdd', 'RoofStyle',\n",
      "       'RoofMatl', 'Exterior1st', 'Exterior2nd', 'MasVnrType', 'MasVnrArea',\n",
      "       'ExterQual', 'ExterCond', 'Foundation', 'BsmtQual', 'BsmtCond',\n",
      "       'BsmtExposure', 'BsmtFinType1', 'BsmtFinSF1', 'BsmtFinType2',\n",
      "       'BsmtFinSF2', 'BsmtUnfSF', 'TotalBsmtSF', 'Heating', 'HeatingQC',\n",
      "       'CentralAir', 'Electrical', '1stFlrSF', '2ndFlrSF', 'LowQualFinSF',\n",
      "       'GrLivArea', 'BsmtFullBath', 'BsmtHalfBath', 'FullBath', 'HalfBath',\n",
      "       'BedroomAbvGr', 'KitchenAbvGr', 'KitchenQual', 'TotRmsAbvGrd',\n",
      "       'Functional', 'Fireplaces', 'FireplaceQu', 'GarageType', 'GarageYrBlt',\n",
      "       'GarageFinish', 'GarageCars', 'GarageArea', 'GarageQual', 'GarageCond',\n",
      "       'PavedDrive', 'WoodDeckSF', 'OpenPorchSF', 'EnclosedPorch', '3SsnPorch',\n",
      "       'ScreenPorch', 'PoolArea', 'PoolQC', 'Fence', 'MiscFeature', 'MiscVal',\n",
      "       'MoSold', 'YrSold', 'SaleType', 'SaleCondition', 'SalePrice'],\n",
      "      dtype='object')\n"
     ]
    }
   ],
   "source": [
    "# Checking all column names\n",
    "\n",
    "print(dataset.columns)"
   ]
  },
  {
   "cell_type": "code",
   "execution_count": 10,
   "metadata": {},
   "outputs": [
    {
     "name": "stdout",
     "output_type": "stream",
     "text": [
      "(1460, 80)\n"
     ]
    }
   ],
   "source": [
    "# Checking the shape of our dataset to confirm the number of columns and rows\n",
    "\n",
    "print(dataset.shape) # dataset has 1460 observations and 80 features"
   ]
  },
  {
   "cell_type": "code",
   "execution_count": 11,
   "metadata": {},
   "outputs": [
    {
     "name": "stdout",
     "output_type": "stream",
     "text": [
      "              Dataset  Percentage\n",
      "LotFrontage       259    0.177397\n",
      "Alley            1369    0.937671\n",
      "MasVnrType          8    0.005479\n",
      "MasVnrArea          8    0.005479\n",
      "BsmtQual           37    0.025342\n",
      "BsmtCond           37    0.025342\n",
      "BsmtExposure       38    0.026027\n",
      "BsmtFinType1       37    0.025342\n",
      "BsmtFinType2       38    0.026027\n",
      "Electrical          1    0.000685\n",
      "FireplaceQu       690    0.472603\n",
      "GarageType         81    0.055479\n",
      "GarageYrBlt        81    0.055479\n",
      "GarageFinish       81    0.055479\n",
      "GarageQual         81    0.055479\n",
      "GarageCond         81    0.055479\n",
      "PoolQC           1453    0.995205\n",
      "Fence            1179    0.807534\n",
      "MiscFeature      1406    0.963014\n"
     ]
    }
   ],
   "source": [
    "# Dealing with missing values\n",
    "\n",
    "# Hypothesis - Dropping columns with more than 15% missing values \n",
    "\n",
    "# Viewing columns with any missing value\n",
    "\n",
    "missing = pd.concat([dataset.isnull().sum(), dataset.isnull().sum() / dataset.shape[0] ], axis=1, keys=['Dataset', 'Percentage'])\n",
    "print(missing[missing.sum(axis=1) > 0])"
   ]
  },
  {
   "cell_type": "code",
   "execution_count": 12,
   "metadata": {},
   "outputs": [],
   "source": [
    "'''''\n",
    "From the analysis above of missing value, base on our hypothesis of dropping columns with more than\n",
    "15% missing values, we are going to delete LotFrontage, Alley, FireplaceQu, PoolQC, Fence, MiscFeature  \n",
    "'''''\n",
    "\n",
    "dataset.drop([\"LotFrontage\", \"Alley\", \"FireplaceQu\", \"PoolQC\", \"Fence\", \"MiscFeature\"], axis = 1, inplace = True)"
   ]
  },
  {
   "cell_type": "code",
   "execution_count": 13,
   "metadata": {},
   "outputs": [
    {
     "name": "stdout",
     "output_type": "stream",
     "text": [
      "              Dataset  Percentage\n",
      "MasVnrType          8    0.005479\n",
      "MasVnrArea          8    0.005479\n",
      "BsmtQual           37    0.025342\n",
      "BsmtCond           37    0.025342\n",
      "BsmtExposure       38    0.026027\n",
      "BsmtFinType1       37    0.025342\n",
      "BsmtFinType2       38    0.026027\n",
      "Electrical          1    0.000685\n",
      "GarageType         81    0.055479\n",
      "GarageYrBlt        81    0.055479\n",
      "GarageFinish       81    0.055479\n",
      "GarageQual         81    0.055479\n",
      "GarageCond         81    0.055479\n"
     ]
    }
   ],
   "source": [
    "# Viewing columns with any missing value after removing columns with more than 15% missing values\n",
    "\n",
    "missing = pd.concat([dataset.isnull().sum(), dataset.isnull().sum() / dataset.shape[0] ], axis=1, keys=['Dataset', 'Percentage'])\n",
    "print(missing[missing.sum(axis=1) > 0])"
   ]
  },
  {
   "cell_type": "code",
   "execution_count": 14,
   "metadata": {},
   "outputs": [],
   "source": [
    "# Dropping the rows with missing values since they are a small portion of the dataset.\n",
    "\n",
    "dataset.dropna(inplace=True)"
   ]
  },
  {
   "cell_type": "code",
   "execution_count": 15,
   "metadata": {},
   "outputs": [
    {
     "data": {
      "text/plain": [
       "(1338, 74)"
      ]
     },
     "execution_count": 15,
     "metadata": {},
     "output_type": "execute_result"
    }
   ],
   "source": [
    "dataset.shape # we lost 122 rows from dropping the na osbervations out of 1460 observations"
   ]
  },
  {
   "cell_type": "markdown",
   "metadata": {},
   "source": [
    "# Exploratory Data Analysis For Feature Selection and Feature Engineering"
   ]
  },
  {
   "cell_type": "code",
   "execution_count": 16,
   "metadata": {},
   "outputs": [
    {
     "data": {
      "image/png": "[encoded data removed]",
      "text/plain": [
       "<Figure size 864x648 with 2 Axes>"
      ]
     },
     "metadata": {},
     "output_type": "display_data"
    },
    {
     "data": {
      "text/plain": [
       "\"''\\nThe produced correlation coefficient matrix indicate that some variables have a strong positive correlation\\nand some variables strong negative correlation. Some variables have no correlation. We will go ahead and \\nselect top 10 features with the strongest correlation with each other.\\n\""
      ]
     },
     "execution_count": 16,
     "metadata": {},
     "output_type": "execute_result"
    }
   ],
   "source": [
    "'''''\n",
    "In our dataset, column SalePrice will be our dependent variable and the other 73 our independent variables.\n",
    "We need to explore the relationship between the indepedent variable to the dependent variable and between\n",
    "one independent variable to another independent variable. To achieve this, we will employ the use of \n",
    "correlation coefficient matrix\n",
    "'''''\n",
    "\n",
    "# making correlation coefficient matrix\n",
    "corrmat = dataset.corr()\n",
    "f, ax = plt.subplots(figsize=(12, 9))\n",
    "sns.heatmap(corrmat, vmax=.8, square=True)\n",
    "plt.yticks(rotation=0)\n",
    "plt.xticks(rotation=90)\n",
    "plt.show()\n",
    "\n",
    "'''''\n",
    "The produced correlation coefficient matrix indicate that some variables have a strong positive correlation\n",
    "and some variables strong negative correlation. Some variables have no correlation. We will go ahead and \n",
    "select top 10 features with the strongest correlation with each other.\n",
    "'''''"
   ]
  },
  {
   "cell_type": "code",
   "execution_count": 17,
   "metadata": {},
   "outputs": [
    {
     "data": {
      "image/png": "[encoded data removed]",
      "text/plain": [
       "<Figure size 864x648 with 2 Axes>"
      ]
     },
     "metadata": {},
     "output_type": "display_data"
    },
    {
     "data": {
      "text/plain": [
       "\"''\\nFrom  this top 10 features with the strongest correlation, since GarageCars and GarageArea have a high correlation with each other, we are going to pick GarageCars \\nto represent the relationship between SalePrice and garage since it has a higher score. GarageArea is eliminated.\\n\\nSince 1stFlrSF and TotalBsmtSF have a high correlation with each other, we are going to eliminate one of them.\\nSince they have the same score. We will pick 1stFlrSF.\\n\\n\""
      ]
     },
     "execution_count": 17,
     "metadata": {},
     "output_type": "execute_result"
    }
   ],
   "source": [
    "# Top 10 features with the strongest correlation with each other.\n",
    "\n",
    "cols = corrmat.nlargest(10, 'SalePrice')['SalePrice'].index\n",
    "cm = np.corrcoef(dataset[cols].values.T)\n",
    "f, ax = plt.subplots(figsize=(12, 9))\n",
    "sns.set(font_scale=1.25)\n",
    "hm = sns.heatmap(cm, cbar=True, annot=True, square=True, fmt='.2f', annot_kws={'size': 10}, yticklabels=cols.values,\n",
    "                 xticklabels=cols.values)\n",
    "plt.yticks(rotation=0)\n",
    "plt.xticks(rotation=90)\n",
    "plt.show()\n",
    "\n",
    "'''''\n",
    "From  this top 10 features with the strongest correlation, since GarageCars and GarageArea have a high correlation with each other, we are going to pick GarageCars \n",
    "to represent the relationship between SalePrice and garage since it has a higher score. GarageArea is eliminated.\n",
    "\n",
    "Since 1stFlrSF and TotalBsmtSF have a high correlation with each other, we are going to eliminate one of them.\n",
    "Since they have the same score. We will pick 1stFlrSF.\n",
    "\n",
    "'''''"
   ]
  },
  {
   "cell_type": "code",
   "execution_count": 18,
   "metadata": {},
   "outputs": [],
   "source": [
    "# New dataset of 8 feature variables and one response variable\n",
    "\n",
    "dataset = dataset[[\"OverallQual\", \"GrLivArea\", \"TotalBsmtSF\", \"GarageCars\", \"1stFlrSF\", \"FullBath\", \"TotRmsAbvGrd\", \"YearBuilt\", \"SalePrice\"]]"
   ]
  },
  {
   "cell_type": "code",
   "execution_count": 19,
   "metadata": {},
   "outputs": [
    {
     "data": {
      "text/plain": [
       "\"''\\nBased on the difference between the max value and the 3 quartile, It is clear there are outliers in the \\ndependent variable SalePrice, TotalBsmtSF and 1stFlrSF\\n\""
      ]
     },
     "execution_count": 19,
     "metadata": {},
     "output_type": "execute_result"
    }
   ],
   "source": [
    "# Inspecting the  variables for outliers and Normality\n",
    "\n",
    "dataset.describe()\n",
    "\n",
    "'''''\n",
    "Based on the difference between the max value and the 3 quartile, It is clear there are outliers in the \n",
    "dependent variable SalePrice, TotalBsmtSF and 1stFlrSF\n",
    "'''''"
   ]
  },
  {
   "cell_type": "code",
   "execution_count": 20,
   "metadata": {},
   "outputs": [
    {
     "data": {
      "text/plain": [
       "\"''\\nOverallQual: Rates the overall material and finish of the house (CATEGORICAL)\\n\\n       10 - Very Excellent\\n       9 - Excellent\\n       8 - Very Good\\n       7 - Good\\n       6 - Above Average\\n       5 - Average\\n       4 - Below Average\\n       3 - Fair\\n       2 - Poor\\n       1 - Very Poor\\n    \\nGrLivArea : Above grade (ground) living area square feet (NUMERICAL)\\n    \\nTotalBsmtSF : Total square feet of basement area (NUMERICAL)\\n \\nGarageCars : Size of garage in car capacity (NUMERICAL)\\n\\n1stFlrSF: First Floor square feet (NUMERICAL)\\n    \\nFullBath : Full bathrooms above grade (NUMERICAL)\\n    \\nTotRmsAbvGrd: Total rooms above grade (does not include bathrooms) (NUMERICAL)\\n    \\nYearBuilt : Original construction date \\n\\n\""
      ]
     },
     "execution_count": 20,
     "metadata": {},
     "output_type": "execute_result"
    }
   ],
   "source": [
    "# Explanation of feature variables\n",
    "\n",
    "'''''\n",
    "OverallQual: Rates the overall material and finish of the house (CATEGORICAL)\n",
    "\n",
    "       10 - Very Excellent\n",
    "       9 - Excellent\n",
    "       8 - Very Good\n",
    "       7 - Good\n",
    "       6 - Above Average\n",
    "       5 - Average\n",
    "       4 - Below Average\n",
    "       3 - Fair\n",
    "       2 - Poor\n",
    "       1 - Very Poor\n",
    "    \n",
    "GrLivArea : Above grade (ground) living area square feet (NUMERICAL)\n",
    "    \n",
    "TotalBsmtSF : Total square feet of basement area (NUMERICAL)\n",
    " \n",
    "GarageCars : Size of garage in car capacity (NUMERICAL)\n",
    "\n",
    "1stFlrSF: First Floor square feet (NUMERICAL)\n",
    "    \n",
    "FullBath : Full bathrooms above grade (NUMERICAL)\n",
    "    \n",
    "TotRmsAbvGrd: Total rooms above grade (does not include bathrooms) (NUMERICAL)\n",
    "    \n",
    "YearBuilt : Original construction date \n",
    "\n",
    "'''''"
   ]
  },
  {
   "cell_type": "code",
   "execution_count": 21,
   "metadata": {},
   "outputs": [],
   "source": [
    "# Feature Engineer age from YearBuilt\n",
    "\n",
    "dataset.YearBuilt.describe()\n",
    "dataset[\"age\"] = dataset[\"YearBuilt\"] - 1880 \n",
    "\n",
    "# subtract the minimum year built from each observation YearBuilt column to convert it to age\n",
    "# the age feature that has been engineered is (NUMERICAL)"
   ]
  },
  {
   "cell_type": "code",
   "execution_count": 22,
   "metadata": {},
   "outputs": [],
   "source": [
    "dataset.drop(\"YearBuilt\", axis = 1, inplace = True) # dropping the year built"
   ]
  },
  {
   "cell_type": "code",
   "execution_count": 23,
   "metadata": {},
   "outputs": [
    {
     "data": {
      "text/html": [
       "<div>\n",
       "<style scoped>\n",
       "    .dataframe tbody tr th:only-of-type {\n",
       "        vertical-align: middle;\n",
       "    }\n",
       "\n",
       "    .dataframe tbody tr th {\n",
       "        vertical-align: top;\n",
       "    }\n",
       "\n",
       "    .dataframe thead th {\n",
       "        text-align: right;\n",
       "    }\n",
       "</style>\n",
       "<table border=\"1\" class=\"dataframe\">\n",
       "  <thead>\n",
       "    <tr style=\"text-align: right;\">\n",
       "      <th></th>\n",
       "      <th>OverallQual</th>\n",
       "      <th>GrLivArea</th>\n",
       "      <th>TotalBsmtSF</th>\n",
       "      <th>GarageCars</th>\n",
       "      <th>1stFlrSF</th>\n",
       "      <th>FullBath</th>\n",
       "      <th>TotRmsAbvGrd</th>\n",
       "      <th>SalePrice</th>\n",
       "      <th>age</th>\n",
       "    </tr>\n",
       "  </thead>\n",
       "  <tbody>\n",
       "    <tr>\n",
       "      <th>0</th>\n",
       "      <td>7</td>\n",
       "      <td>1710</td>\n",
       "      <td>856</td>\n",
       "      <td>2</td>\n",
       "      <td>856</td>\n",
       "      <td>2</td>\n",
       "      <td>8</td>\n",
       "      <td>208500</td>\n",
       "      <td>123</td>\n",
       "    </tr>\n",
       "    <tr>\n",
       "      <th>1</th>\n",
       "      <td>6</td>\n",
       "      <td>1262</td>\n",
       "      <td>1262</td>\n",
       "      <td>2</td>\n",
       "      <td>1262</td>\n",
       "      <td>2</td>\n",
       "      <td>6</td>\n",
       "      <td>181500</td>\n",
       "      <td>96</td>\n",
       "    </tr>\n",
       "    <tr>\n",
       "      <th>2</th>\n",
       "      <td>7</td>\n",
       "      <td>1786</td>\n",
       "      <td>920</td>\n",
       "      <td>2</td>\n",
       "      <td>920</td>\n",
       "      <td>2</td>\n",
       "      <td>6</td>\n",
       "      <td>223500</td>\n",
       "      <td>121</td>\n",
       "    </tr>\n",
       "    <tr>\n",
       "      <th>3</th>\n",
       "      <td>7</td>\n",
       "      <td>1717</td>\n",
       "      <td>756</td>\n",
       "      <td>3</td>\n",
       "      <td>961</td>\n",
       "      <td>1</td>\n",
       "      <td>7</td>\n",
       "      <td>140000</td>\n",
       "      <td>35</td>\n",
       "    </tr>\n",
       "    <tr>\n",
       "      <th>4</th>\n",
       "      <td>8</td>\n",
       "      <td>2198</td>\n",
       "      <td>1145</td>\n",
       "      <td>3</td>\n",
       "      <td>1145</td>\n",
       "      <td>2</td>\n",
       "      <td>9</td>\n",
       "      <td>250000</td>\n",
       "      <td>120</td>\n",
       "    </tr>\n",
       "  </tbody>\n",
       "</table>\n",
       "</div>"
      ],
      "text/plain": [
       "   OverallQual  GrLivArea  TotalBsmtSF  GarageCars  1stFlrSF  FullBath  \\\n",
       "0            7       1710          856           2       856         2   \n",
       "1            6       1262         1262           2      1262         2   \n",
       "2            7       1786          920           2       920         2   \n",
       "3            7       1717          756           3       961         1   \n",
       "4            8       2198         1145           3      1145         2   \n",
       "\n",
       "   TotRmsAbvGrd  SalePrice  age  \n",
       "0             8     208500  123  \n",
       "1             6     181500   96  \n",
       "2             6     223500  121  \n",
       "3             7     140000   35  \n",
       "4             9     250000  120  "
      ]
     },
     "execution_count": 23,
     "metadata": {},
     "output_type": "execute_result"
    }
   ],
   "source": [
    "dataset.head()"
   ]
  },
  {
   "cell_type": "code",
   "execution_count": 24,
   "metadata": {},
   "outputs": [
    {
     "data": {
      "text/plain": [
       "(1338, 9)"
      ]
     },
     "execution_count": 24,
     "metadata": {},
     "output_type": "execute_result"
    }
   ],
   "source": [
    "dataset.shape"
   ]
  },
  {
   "cell_type": "code",
   "execution_count": 25,
   "metadata": {},
   "outputs": [],
   "source": [
    "# Standardizing the numerical feature variables\n",
    "\n",
    "numeric_data = dataset.loc[:, [\"GrLivArea\", \"TotalBsmtSF\", \"GarageCars\", \"1stFlrSF\", \"FullBath\", \"TotRmsAbvGrd\", \"age\"]]\n",
    "numeric_data_standardized = (numeric_data - numeric_data.mean())/numeric_data.std()"
   ]
  },
  {
   "cell_type": "code",
   "execution_count": 26,
   "metadata": {},
   "outputs": [
    {
     "name": "stderr",
     "output_type": "stream",
     "text": [
      "C:\\ProgramData\\Anaconda3\\lib\\site-packages\\ipykernel_launcher.py:6: DeprecationWarning: \n",
      ".ix is deprecated. Please use\n",
      ".loc for label based indexing or\n",
      ".iloc for positional indexing\n",
      "\n",
      "See the documentation here:\n",
      "http://pandas.pydata.org/pandas-docs/stable/indexing.html#ix-indexer-is-deprecated\n",
      "  \n"
     ]
    }
   ],
   "source": [
    "# Getting Dummies so that we can accomodate the categorical OverallQual variable in our modelling\n",
    "\n",
    "condition = set([x for x in dataset['OverallQual']])\n",
    "dummies = pd.DataFrame(data=np.zeros((len(dataset.index), len(condition))), index=dataset.index, columns=condition)\n",
    "for i, cond in enumerate(zip(dataset['OverallQual'])):\n",
    "    dummies.ix[i, cond] = 1\n",
    "dataset = pd.concat([dataset, dummies.add_prefix('OverallQual_')], axis=1)\n",
    "dataset.drop(['OverallQual'], axis=1, inplace=True)"
   ]
  },
  {
   "cell_type": "code",
   "execution_count": 27,
   "metadata": {},
   "outputs": [],
   "source": [
    "# Replacing numeric feature by standardized values to over dataset\n",
    "\n",
    "dataset.update(numeric_data_standardized)"
   ]
  },
  {
   "cell_type": "code",
   "execution_count": 28,
   "metadata": {},
   "outputs": [
    {
     "data": {
      "text/html": [
       "<div>\n",
       "<style scoped>\n",
       "    .dataframe tbody tr th:only-of-type {\n",
       "        vertical-align: middle;\n",
       "    }\n",
       "\n",
       "    .dataframe tbody tr th {\n",
       "        vertical-align: top;\n",
       "    }\n",
       "\n",
       "    .dataframe thead th {\n",
       "        text-align: right;\n",
       "    }\n",
       "</style>\n",
       "<table border=\"1\" class=\"dataframe\">\n",
       "  <thead>\n",
       "    <tr style=\"text-align: right;\">\n",
       "      <th></th>\n",
       "      <th>GrLivArea</th>\n",
       "      <th>TotalBsmtSF</th>\n",
       "      <th>GarageCars</th>\n",
       "      <th>1stFlrSF</th>\n",
       "      <th>FullBath</th>\n",
       "      <th>TotRmsAbvGrd</th>\n",
       "      <th>SalePrice</th>\n",
       "      <th>age</th>\n",
       "      <th>OverallQual_2</th>\n",
       "      <th>OverallQual_3</th>\n",
       "      <th>OverallQual_4</th>\n",
       "      <th>OverallQual_5</th>\n",
       "      <th>OverallQual_6</th>\n",
       "      <th>OverallQual_7</th>\n",
       "      <th>OverallQual_8</th>\n",
       "      <th>OverallQual_9</th>\n",
       "      <th>OverallQual_10</th>\n",
       "    </tr>\n",
       "  </thead>\n",
       "  <tbody>\n",
       "    <tr>\n",
       "      <th>0</th>\n",
       "      <td>0.331198</td>\n",
       "      <td>-0.591653</td>\n",
       "      <td>0.202671</td>\n",
       "      <td>-0.828207</td>\n",
       "      <td>0.775270</td>\n",
       "      <td>0.914738</td>\n",
       "      <td>208500.0</td>\n",
       "      <td>1.013778</td>\n",
       "      <td>0.0</td>\n",
       "      <td>0.0</td>\n",
       "      <td>0.0</td>\n",
       "      <td>0.0</td>\n",
       "      <td>0.0</td>\n",
       "      <td>1.0</td>\n",
       "      <td>0.0</td>\n",
       "      <td>0.0</td>\n",
       "      <td>0.0</td>\n",
       "    </tr>\n",
       "    <tr>\n",
       "      <th>1</th>\n",
       "      <td>-0.529381</td>\n",
       "      <td>0.409445</td>\n",
       "      <td>0.202671</td>\n",
       "      <td>0.221852</td>\n",
       "      <td>0.775270</td>\n",
       "      <td>-0.347035</td>\n",
       "      <td>181500.0</td>\n",
       "      <td>0.100490</td>\n",
       "      <td>0.0</td>\n",
       "      <td>0.0</td>\n",
       "      <td>0.0</td>\n",
       "      <td>0.0</td>\n",
       "      <td>1.0</td>\n",
       "      <td>0.0</td>\n",
       "      <td>0.0</td>\n",
       "      <td>0.0</td>\n",
       "      <td>0.0</td>\n",
       "    </tr>\n",
       "    <tr>\n",
       "      <th>2</th>\n",
       "      <td>0.477189</td>\n",
       "      <td>-0.433845</td>\n",
       "      <td>0.202671</td>\n",
       "      <td>-0.662680</td>\n",
       "      <td>0.775270</td>\n",
       "      <td>-0.347035</td>\n",
       "      <td>223500.0</td>\n",
       "      <td>0.946127</td>\n",
       "      <td>0.0</td>\n",
       "      <td>0.0</td>\n",
       "      <td>0.0</td>\n",
       "      <td>0.0</td>\n",
       "      <td>0.0</td>\n",
       "      <td>1.0</td>\n",
       "      <td>0.0</td>\n",
       "      <td>0.0</td>\n",
       "      <td>0.0</td>\n",
       "    </tr>\n",
       "    <tr>\n",
       "      <th>3</th>\n",
       "      <td>0.344644</td>\n",
       "      <td>-0.838229</td>\n",
       "      <td>1.779263</td>\n",
       "      <td>-0.556640</td>\n",
       "      <td>-1.050982</td>\n",
       "      <td>0.283852</td>\n",
       "      <td>140000.0</td>\n",
       "      <td>-1.962862</td>\n",
       "      <td>0.0</td>\n",
       "      <td>0.0</td>\n",
       "      <td>0.0</td>\n",
       "      <td>0.0</td>\n",
       "      <td>0.0</td>\n",
       "      <td>1.0</td>\n",
       "      <td>0.0</td>\n",
       "      <td>0.0</td>\n",
       "      <td>0.0</td>\n",
       "    </tr>\n",
       "    <tr>\n",
       "      <th>4</th>\n",
       "      <td>1.268614</td>\n",
       "      <td>0.120951</td>\n",
       "      <td>1.779263</td>\n",
       "      <td>-0.080751</td>\n",
       "      <td>0.775270</td>\n",
       "      <td>1.545625</td>\n",
       "      <td>250000.0</td>\n",
       "      <td>0.912301</td>\n",
       "      <td>0.0</td>\n",
       "      <td>0.0</td>\n",
       "      <td>0.0</td>\n",
       "      <td>0.0</td>\n",
       "      <td>0.0</td>\n",
       "      <td>0.0</td>\n",
       "      <td>1.0</td>\n",
       "      <td>0.0</td>\n",
       "      <td>0.0</td>\n",
       "    </tr>\n",
       "  </tbody>\n",
       "</table>\n",
       "</div>"
      ],
      "text/plain": [
       "   GrLivArea  TotalBsmtSF  GarageCars  1stFlrSF  FullBath  TotRmsAbvGrd  \\\n",
       "0   0.331198    -0.591653    0.202671 -0.828207  0.775270      0.914738   \n",
       "1  -0.529381     0.409445    0.202671  0.221852  0.775270     -0.347035   \n",
       "2   0.477189    -0.433845    0.202671 -0.662680  0.775270     -0.347035   \n",
       "3   0.344644    -0.838229    1.779263 -0.556640 -1.050982      0.283852   \n",
       "4   1.268614     0.120951    1.779263 -0.080751  0.775270      1.545625   \n",
       "\n",
       "   SalePrice       age  OverallQual_2  OverallQual_3  OverallQual_4  \\\n",
       "0   208500.0  1.013778            0.0            0.0            0.0   \n",
       "1   181500.0  0.100490            0.0            0.0            0.0   \n",
       "2   223500.0  0.946127            0.0            0.0            0.0   \n",
       "3   140000.0 -1.962862            0.0            0.0            0.0   \n",
       "4   250000.0  0.912301            0.0            0.0            0.0   \n",
       "\n",
       "   OverallQual_5  OverallQual_6  OverallQual_7  OverallQual_8  OverallQual_9  \\\n",
       "0            0.0            0.0            1.0            0.0            0.0   \n",
       "1            0.0            1.0            0.0            0.0            0.0   \n",
       "2            0.0            0.0            1.0            0.0            0.0   \n",
       "3            0.0            0.0            1.0            0.0            0.0   \n",
       "4            0.0            0.0            0.0            1.0            0.0   \n",
       "\n",
       "   OverallQual_10  \n",
       "0             0.0  \n",
       "1             0.0  \n",
       "2             0.0  \n",
       "3             0.0  \n",
       "4             0.0  "
      ]
     },
     "execution_count": 28,
     "metadata": {},
     "output_type": "execute_result"
    }
   ],
   "source": [
    "dataset.head()"
   ]
  },
  {
   "cell_type": "code",
   "execution_count": 29,
   "metadata": {},
   "outputs": [],
   "source": [
    "# Dropping any missing value that was introduced to our dataset due to standardization\n",
    "\n",
    "dataset.dropna(inplace=True)"
   ]
  },
  {
   "cell_type": "code",
   "execution_count": 30,
   "metadata": {},
   "outputs": [],
   "source": [
    "# Specifying Features variable in this project`\n",
    "\n",
    "X = dataset.drop(\"SalePrice\", axis = 1)"
   ]
  },
  {
   "cell_type": "code",
   "execution_count": 31,
   "metadata": {},
   "outputs": [
    {
     "data": {
      "text/plain": [
       "(1338, 16)"
      ]
     },
     "execution_count": 31,
     "metadata": {},
     "output_type": "execute_result"
    }
   ],
   "source": [
    "X.shape"
   ]
  },
  {
   "cell_type": "code",
   "execution_count": 32,
   "metadata": {},
   "outputs": [],
   "source": [
    "# Specifying dependent variable in this project\n",
    "\n",
    "y = dataset[\"SalePrice\"]"
   ]
  },
  {
   "cell_type": "markdown",
   "metadata": {},
   "source": [
    "# Split our dataset to Training set and Testing set for Cross Validation and Model Evaluation"
   ]
  },
  {
   "cell_type": "code",
   "execution_count": 33,
   "metadata": {},
   "outputs": [
    {
     "data": {
      "text/plain": [
       "'\\nWe have used 20% of totals observation as test data and 80% of the total obervation as Test data.\\nWe have also used a random state of 0 to ensure we get the same result when we run the splitting\\nover and over again.\\n'"
      ]
     },
     "execution_count": 33,
     "metadata": {},
     "output_type": "execute_result"
    }
   ],
   "source": [
    "# Splitting the Dataset into the Training set and Test set for cross validation later in the project\n",
    "\n",
    "from sklearn.model_selection import train_test_split\n",
    "X_train, X_test, y_train, y_test = train_test_split(X, y, test_size=0.2, random_state=0)\n",
    "\n",
    "'''\n",
    "We have used 20% of totals observation as test data and 80% of the total obervation as Test data.\n",
    "We have also used a random state of 0 to ensure we get the same result when we run the splitting\n",
    "over and over again.\n",
    "'''"
   ]
  },
  {
   "cell_type": "markdown",
   "metadata": {},
   "source": [
    "# Building Multiple Linear Regression Model and performing Prediction of the house prices"
   ]
  },
  {
   "cell_type": "code",
   "execution_count": 34,
   "metadata": {},
   "outputs": [
    {
     "data": {
      "text/plain": [
       "LinearRegression(copy_X=True, fit_intercept=True, n_jobs=1, normalize=False)"
      ]
     },
     "execution_count": 34,
     "metadata": {},
     "output_type": "execute_result"
    }
   ],
   "source": [
    "# Fitting Multiple Linear Regression to the Training set\n",
    "\n",
    "from sklearn.linear_model import LinearRegression\n",
    "regressor = LinearRegression()\n",
    "regressor.fit(X_train, y_train)"
   ]
  },
  {
   "cell_type": "code",
   "execution_count": 35,
   "metadata": {},
   "outputs": [
    {
     "data": {
      "text/plain": [
       "array([230720, 100766, 149507, 192870, 194783, 220524, 193993, 242988,\n",
       "       119269, 186139, 176332, 168693,  61990, 212232, 204847, 130299,\n",
       "       199292, 259225, 151563, 129214, 198999, 131595, 178316, 222850,\n",
       "       187716, 353161, 241869, 126095, 182238, 309781, 213980, 202725,\n",
       "       212828, 269022, 217429, 232189, 116087, 302955, 246257,  86416,\n",
       "       247260, 369873, 116343, 353973, 115858,  91139, 204584, 194785,\n",
       "       165284, 131025, 238392, 242744, 186830, 309594, 232791,  96602,\n",
       "       184467, 146419, 129854, 159945, 123628, 154882, 138933, 211727,\n",
       "       221961, 196436, 158437, 246391, 197827,  99915, 227670, 179671,\n",
       "       144879, 165550, 131900, 229142, 119468, 116628, 283503, 197436,\n",
       "       185241, 180069, 312571, 138131, 203371, 236586, 170364, 184717,\n",
       "       231044, 293582, 150935, 287161, 223183, 324603, 119537, 134467,\n",
       "       274701, 277346, 235727, 147275, 141004, 269337, 119537, 217302,\n",
       "       281558,  73269, 251835, 185861, 226265, 249570, 213121, 142148,\n",
       "       159091, 107657, 163216, 174569, 171472, 137751, 101702, 150511,\n",
       "        86257, 217158, 198945, 321999, 188960, 218587, 285302, 108487,\n",
       "       153004, 147884, 149796, 176807, 140330, 182872, 163608,  97896,\n",
       "       183740, 263922,  72850, 198121, 206098, 203598, 552116, 192282,\n",
       "       268433, 205363, 180848, 178598,  93275, 166749, 179616, 143749,\n",
       "       328539,  95599, 165162, 230997, 265385, 232324, 274050, 139484,\n",
       "       309659, 308855, 107540,  92255,  63349, 128636,  93633, 102818,\n",
       "       176087, 157535, 305221, 230614, 131246, 291248, 326747, 236297,\n",
       "       170478, 140110, 218402, 248534, 163973, 279224, 106840, 226121,\n",
       "       107832, 218509, 211938, 211796, 374167, 242832, 226438, 181609,\n",
       "       135048, 222552, 209358, 162323, 169893, 176280, 144644, 232998,\n",
       "       195615, 115064, 181418, 155225,  13151, 128130, 148510, 180470,\n",
       "       156578, 139343, 215206, 183392, 112963, 158249, 197339, 192572,\n",
       "       195948, 185591, 254551, 138328, 199906, 212461, 197396, 193212,\n",
       "       148021, 209616, 196394, 164814, 225899, 162148, 157939, 178158,\n",
       "       177972, 248064, 257785,  71676, 190045,  98101, 302738, 303890,\n",
       "       288896, 147239, 214402, 139139, 129860, 210962, 138037, 336984,\n",
       "       143019,  99804, 216795, 229741,  92508, 192160, 137629, 129651,\n",
       "       113989, 200120, 180175, 176313, 223468, 143502, 125794, 101152,\n",
       "       224326, 181098, 242189, 208207])"
      ]
     },
     "execution_count": 35,
     "metadata": {},
     "output_type": "execute_result"
    }
   ],
   "source": [
    "# Predicting the Test set results\n",
    "\n",
    "y_pred = regressor.predict(X_test)\n",
    "y_pred.astype(int)"
   ]
  },
  {
   "cell_type": "code",
   "execution_count": 36,
   "metadata": {},
   "outputs": [
    {
     "data": {
      "text/plain": [
       "631     209500.0\n",
       "669     137500.0\n",
       "622     135000.0\n",
       "1130    135000.0\n",
       "219     167240.0\n",
       "Name: SalePrice, dtype: float64"
      ]
     },
     "execution_count": 36,
     "metadata": {},
     "output_type": "execute_result"
    }
   ],
   "source": [
    "y_test.head() # Compare with the real y_test"
   ]
  },
  {
   "cell_type": "code",
   "execution_count": 37,
   "metadata": {},
   "outputs": [
    {
     "name": "stdout",
     "output_type": "stream",
     "text": [
      "[('GrLivArea', 40216.81351777591), ('TotalBsmtSF', 10864.81332412291), ('GarageCars', 16823.54985661529), ('1stFlrSF', 5262.276085747533), ('FullBath', -2591.825419076236), ('TotRmsAbvGrd', -353.44141346390506), ('age', 19274.166846664553), ('OverallQual_2', 16541.414147143856), ('OverallQual_3', -12150.813311946107), ('OverallQual_4', 8130.788393561831), ('OverallQual_5', 6494.563003659011), ('OverallQual_6', 6001.407544631271), ('OverallQual_7', 888.5691908708188), ('OverallQual_8', 9240.70823824348), ('OverallQual_9', 4202.899792113351), ('OverallQual_10', 4893.767101319534)]\n"
     ]
    },
    {
     "data": {
      "text/plain": [
       "\"\\nInterpretation of the coefficients?\\n\\nKeeping other variables Constant,  'FullBath' is associated with an average decrease in SalePrice.\\n\\nKeeping other variables Constant,  'GrLivArea', 'TotalBsmtSF', 'GarageCars', '1stFlrSF', 'TotRmsAbvGrd', age, \\n'OverallQual_2'is associated with an average decrease in SalePrice.\\n\""
      ]
     },
     "execution_count": 37,
     "metadata": {},
     "output_type": "execute_result"
    }
   ],
   "source": [
    "# print the coefficients\n",
    "\n",
    "print(list(zip(X_train.columns, regressor.coef_)))\n",
    "\n",
    "'''\n",
    "Interpretation of the coefficients?\n",
    "\n",
    "Keeping other variables Constant,  'FullBath' is associated with an average decrease in SalePrice.\n",
    "\n",
    "Keeping other variables Constant,  'GrLivArea', 'TotalBsmtSF', 'GarageCars', '1stFlrSF', 'TotRmsAbvGrd', age, \n",
    "'OverallQual_2'is associated with an average decrease in SalePrice.\n",
    "'''"
   ]
  },
  {
   "cell_type": "markdown",
   "metadata": {},
   "source": [
    "# Evaluating our Multiple Linear Regression model"
   ]
  },
  {
   "cell_type": "code",
   "execution_count": 38,
   "metadata": {},
   "outputs": [
    {
     "name": "stdout",
     "output_type": "stream",
     "text": [
      "0.7171412911471307\n"
     ]
    },
    {
     "data": {
      "text/plain": [
       "'\\nIn Multiple Regression Model, 71.71% of the variability in the training set data can be explained using \\nthe training set.\\n'"
      ]
     },
     "execution_count": 38,
     "metadata": {},
     "output_type": "execute_result"
    }
   ],
   "source": [
    "#  R squared based on the training set\n",
    "\n",
    "from sklearn import metrics\n",
    "print(regressor.score(X_train, y_train))\n",
    "\n",
    "'''\n",
    "In Multiple Regression Model, 71.71% of the variability in the training set data can be explained using \n",
    "the training set.\n",
    "'''"
   ]
  },
  {
   "cell_type": "code",
   "execution_count": 39,
   "metadata": {},
   "outputs": [
    {
     "name": "stdout",
     "output_type": "stream",
     "text": [
      "0.658896960186558\n"
     ]
    },
    {
     "data": {
      "text/plain": [
       "'\\nIn Multiple Regression Model, 65.88% of the variability in the training set data can be explained using \\nthe training set. The is a drop and does not perform so well in predicting unseen data.\\n'"
      ]
     },
     "execution_count": 39,
     "metadata": {},
     "output_type": "execute_result"
    }
   ],
   "source": [
    "#  R squared based on the test set\n",
    "\n",
    "from sklearn import metrics\n",
    "print(regressor.score(X_test, y_test))\n",
    "\n",
    "'''\n",
    "In Multiple Regression Model, 65.88% of the variability in the training set data can be explained using \n",
    "the training set. The is a drop and does not perform so well in predicting unseen data.\n",
    "'''"
   ]
  },
  {
   "cell_type": "code",
   "execution_count": 40,
   "metadata": {},
   "outputs": [
    {
     "name": "stdout",
     "output_type": "stream",
     "text": [
      "41576.97447753317\n"
     ]
    },
    {
     "data": {
      "text/plain": [
       "'\\nOur Regression model is able to predict the value of every house SalePrice in the test set within \\n$41577 of the real price.\\n'"
      ]
     },
     "execution_count": 40,
     "metadata": {},
     "output_type": "execute_result"
    }
   ],
   "source": [
    "# Calculating root-mean-square error (RMSE) base on the test set\n",
    "\n",
    "import numpy as np\n",
    "from sklearn.metrics import mean_squared_error\n",
    "lin_mse = mean_squared_error(y_pred, y_test)\n",
    "lin_rmse = np.sqrt(lin_mse)\n",
    "print(lin_rmse)\n",
    "\n",
    "'''\n",
    "Our Regression model is able to predict the value of every house SalePrice in the test set within \n",
    "$41577 of the real price.\n",
    "'''"
   ]
  },
  {
   "cell_type": "code",
   "execution_count": 41,
   "metadata": {
    "scrolled": true
   },
   "outputs": [
    {
     "data": {
      "text/plain": [
       "26390.637556730722"
      ]
     },
     "execution_count": 41,
     "metadata": {},
     "output_type": "execute_result"
    }
   ],
   "source": [
    "# MAE based on the test set\n",
    "from sklearn.metrics import mean_absolute_error\n",
    "mean_absolute_error(y_test, y_pred)"
   ]
  },
  {
   "cell_type": "markdown",
   "metadata": {},
   "source": [
    "# Building Random Forest Regression Model and performing Prediction of the house prices"
   ]
  },
  {
   "cell_type": "code",
   "execution_count": 42,
   "metadata": {},
   "outputs": [
    {
     "data": {
      "text/plain": [
       "RandomForestRegressor(bootstrap=True, criterion='mse', max_depth=None,\n",
       "           max_features='auto', max_leaf_nodes=None,\n",
       "           min_impurity_decrease=0.0, min_impurity_split=None,\n",
       "           min_samples_leaf=1, min_samples_split=2,\n",
       "           min_weight_fraction_leaf=0.0, n_estimators=10, n_jobs=1,\n",
       "           oob_score=False, random_state=0, verbose=0, warm_start=False)"
      ]
     },
     "execution_count": 42,
     "metadata": {},
     "output_type": "execute_result"
    }
   ],
   "source": [
    "# Fitting Random Forest Regression Model\n",
    "\n",
    "from sklearn.ensemble import RandomForestRegressor\n",
    "\n",
    "forest_reg = RandomForestRegressor(random_state=0)\n",
    "forest_reg.fit(X_train, y_train)"
   ]
  },
  {
   "cell_type": "code",
   "execution_count": 43,
   "metadata": {},
   "outputs": [
    {
     "data": {
      "text/plain": [
       "array([250340, 132985, 155016, 238150, 196200, 185970, 219260, 237200,\n",
       "       110190, 173950, 151803, 154640, 114800, 163840, 201042, 117300,\n",
       "       161260, 242565, 141440, 123300, 215200, 111200, 166500, 213030,\n",
       "       207930, 421089, 235117, 122500, 161833, 347055, 185650, 183150,\n",
       "       206369, 254545, 208100, 216483, 128530, 324706, 222963, 119800,\n",
       "       248573, 481208, 134540, 415089, 117390, 115590, 203226, 187445,\n",
       "       137750, 121500, 261840, 259990, 166865, 265300, 254820, 116937,\n",
       "       169750, 147160, 122597, 145540, 120750, 152525, 132200, 185208,\n",
       "       214530, 197300, 129500, 260480, 178550,  99990, 168050, 146700,\n",
       "       136900, 157113, 126650, 209047, 127075, 113790, 300192, 173650,\n",
       "       163280, 167630, 282300, 142120, 208416, 229440, 150510, 163615,\n",
       "       245450, 318542, 143817, 238197, 220130, 299661, 127400, 135300,\n",
       "       263172, 279668, 221390, 148600, 143610, 271797, 134100, 188600,\n",
       "       270146, 108600, 161827, 174350, 226800, 234940, 193588, 148200,\n",
       "       158700, 132340, 179990, 161476, 167400, 138860, 117475, 142340,\n",
       "       112700, 222453, 197900, 376198, 172330, 194230, 250700, 107847,\n",
       "       146500, 141370, 170430, 166930, 145340, 155050, 147125,  91340,\n",
       "       181400, 234400,  88630, 192075, 198450, 158845, 672000, 160175,\n",
       "       248550, 200850, 167280, 177499, 102147, 156175, 146070, 144210,\n",
       "       355536, 119565, 173045, 250510, 263155, 237650, 285787, 148110,\n",
       "       319388, 327800, 106910, 106462, 102250, 116390,  93400, 132475,\n",
       "       166800, 151030, 308400, 220715, 128960, 311897, 361423, 237942,\n",
       "       152408, 146190, 206890, 218139, 154410, 301137, 112650, 196766,\n",
       "       123300, 181690, 217525, 195323, 465747, 216050, 215096, 163050,\n",
       "       134370, 231265, 200710, 139233, 160550, 165045, 135303, 221815,\n",
       "       185300, 113740, 173450, 150493,  72889, 138900, 138150, 148828,\n",
       "       144295, 174765, 185130, 163040, 141805, 148110, 167400, 162600,\n",
       "       148840, 178380, 218350, 145115, 178250, 130000, 187465, 161570,\n",
       "       143195, 206410, 161590, 166406, 197500, 142100, 138900, 165540,\n",
       "       161975, 246890, 226387, 107900, 170150, 120560, 366534, 340864,\n",
       "       287300, 151940, 186300, 151550, 140615, 198900, 151840, 487593,\n",
       "       136625, 126125, 197600, 236200, 112400, 195605, 163350, 135950,\n",
       "       113480, 234430, 168480, 170470, 242110, 149670, 116350, 118950,\n",
       "       238413, 173150, 254150, 198779])"
      ]
     },
     "execution_count": 43,
     "metadata": {},
     "output_type": "execute_result"
    }
   ],
   "source": [
    "# Predicting the Test set results\n",
    "\n",
    "y_pred = forest_reg.predict(X_test)\n",
    "y_pred.astype(int)"
   ]
  },
  {
   "cell_type": "code",
   "execution_count": 44,
   "metadata": {},
   "outputs": [
    {
     "data": {
      "text/plain": [
       "631     209500.0\n",
       "669     137500.0\n",
       "622     135000.0\n",
       "1130    135000.0\n",
       "219     167240.0\n",
       "Name: SalePrice, dtype: float64"
      ]
     },
     "execution_count": 44,
     "metadata": {},
     "output_type": "execute_result"
    }
   ],
   "source": [
    "y_test.head() # Compare with the real y_test"
   ]
  },
  {
   "cell_type": "markdown",
   "metadata": {},
   "source": [
    "# Evaluating our Random Forest Regression model"
   ]
  },
  {
   "cell_type": "code",
   "execution_count": 45,
   "metadata": {},
   "outputs": [
    {
     "name": "stdout",
     "output_type": "stream",
     "text": [
      "0.9644813758404256\n"
     ]
    },
    {
     "data": {
      "text/plain": [
       "'\\nIn Random Forest Regression Model, 96.44% of the variability in the training set data can be explained using \\nthe training set.\\n'"
      ]
     },
     "execution_count": 45,
     "metadata": {},
     "output_type": "execute_result"
    }
   ],
   "source": [
    "#  R squared based on the training set\n",
    "\n",
    "from sklearn import metrics\n",
    "print(forest_reg.score(X_train, y_train))\n",
    "\n",
    "'''\n",
    "In Random Forest Regression Model, 96.44% of the variability in the training set data can be explained using \n",
    "the training set.\n",
    "'''"
   ]
  },
  {
   "cell_type": "code",
   "execution_count": 46,
   "metadata": {},
   "outputs": [
    {
     "name": "stdout",
     "output_type": "stream",
     "text": [
      "0.6468093007186306\n"
     ]
    },
    {
     "data": {
      "text/plain": [
       "'\\nIn Random Forest Regression Model, 64.68% of the variability in the training set data can be explained using \\nthe training set. The is a drop and does not perform so well in predicting unseen data.\\n'"
      ]
     },
     "execution_count": 46,
     "metadata": {},
     "output_type": "execute_result"
    }
   ],
   "source": [
    "#  R squared based on the test set\n",
    "\n",
    "from sklearn import metrics\n",
    "print(forest_reg.score(X_test, y_test))\n",
    "\n",
    "'''\n",
    "In Random Forest Regression Model, 64.68% of the variability in the training set data can be explained using \n",
    "the training set. The is a drop and does not perform so well in predicting unseen data.\n",
    "'''"
   ]
  },
  {
   "cell_type": "code",
   "execution_count": 47,
   "metadata": {},
   "outputs": [
    {
     "name": "stdout",
     "output_type": "stream",
     "text": [
      "42307.24225642468\n"
     ]
    },
    {
     "data": {
      "text/plain": [
       "'\\nOur Random Forest Regression model is able to predict the value of every house SalePrice in the test set within \\n$42307 of the real price.\\n'"
      ]
     },
     "execution_count": 47,
     "metadata": {},
     "output_type": "execute_result"
    }
   ],
   "source": [
    "# Calculating root-mean-square error (RMSE) base on the test set\n",
    "\n",
    "import numpy as np\n",
    "from sklearn.metrics import mean_squared_error\n",
    "lin_mse = mean_squared_error(y_test, forest_reg.predict(X_test))\n",
    "lin_rmse = np.sqrt(lin_mse)\n",
    "print(lin_rmse)\n",
    "\n",
    "'''\n",
    "Our Random Forest Regression model is able to predict the value of every house SalePrice in the test set within \n",
    "$42307 of the real price.\n",
    "'''"
   ]
  },
  {
   "cell_type": "code",
   "execution_count": 48,
   "metadata": {},
   "outputs": [
    {
     "data": {
      "text/plain": [
       "22767.721641791046"
      ]
     },
     "execution_count": 48,
     "metadata": {},
     "output_type": "execute_result"
    }
   ],
   "source": [
    "# MAE based on the test set\n",
    "from sklearn.metrics import mean_absolute_error\n",
    "mean_absolute_error(y_test, forest_reg.predict(X_test))"
   ]
  },
  {
   "cell_type": "code",
   "execution_count": 49,
   "metadata": {},
   "outputs": [
    {
     "data": {
      "text/plain": [
       "'\\nBased on the model evaluation of multiple linear regression model and Random Forest regression model,\\nIt is clear that Random Forest Regression Model is the winner and is able to predict the price of every\\nhouse with a minimum price range based on the Minimum Absolute Error. \\n'"
      ]
     },
     "execution_count": 49,
     "metadata": {},
     "output_type": "execute_result"
    }
   ],
   "source": [
    "'''\n",
    "Based on the model evaluation of multiple linear regression model and Random Forest regression model,\n",
    "It is clear that Random Forest Regression Model is the winner and is able to predict the price of every\n",
    "house with a minimum price range based on the Minimum Absolute Error. \n",
    "'''"
   ]
  },
  {
   "cell_type": "code",
   "execution_count": null,
   "metadata": {},
   "outputs": [],
   "source": []
  },
  {
   "cell_type": "code",
   "execution_count": null,
   "metadata": {},
   "outputs": [],
   "source": []
  }
 ],
 "metadata": {
  "kernelspec": {
   "display_name": "Python 3",
   "language": "python",
   "name": "python3"
  },
  "language_info": {
   "codemirror_mode": {
    "name": "ipython",
    "version": 3
   },
   "file_extension": ".py",
   "mimetype": "text/x-python",
   "name": "python",
   "nbconvert_exporter": "python",
   "pygments_lexer": "ipython3",
   "version": "3.7.2"
  }
 },
 "nbformat": 4,
 "nbformat_minor": 2
}
