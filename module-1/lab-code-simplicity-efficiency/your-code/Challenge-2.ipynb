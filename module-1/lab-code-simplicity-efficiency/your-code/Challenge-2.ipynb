{
 "cells": [
  {
   "cell_type": "markdown",
   "metadata": {},
   "source": [
    "# Original Code"
   ]
  },
  {
   "cell_type": "code",
   "execution_count": 1,
   "metadata": {},
   "outputs": [
    {
     "name": "stdout",
     "output_type": "stream",
     "text": [
      "Enter minimum string length: 13\n",
      "Enter maximum string length: 20\n",
      "How many random strings to generate? 3\n",
      "['9br0335ltsv5gbndeqd', 'gxnpeqf9kd5yu', 't3x549ugar35nub']\n"
     ]
    }
   ],
   "source": [
    "\"\"\"\n",
    "The code below generates a given number of random strings that consists of numbers and \n",
    "lower case English letters. You can also define the range of the variable lengths of\n",
    "the strings being generated.\n",
    "\n",
    "The code is functional but has a lot of room for improvement. Use what you have learned\n",
    "about simple and efficient code, refactor the code.\n",
    "\"\"\"\n",
    "\n",
    "def RandomStringGenerator(l=12, a=['a','b','c','d','e','f','g','h','i','j','k','l','m','n','o','p','q','r','s','t','u','v','w','x','y','z','0','1','2','3','4','5','6','7','8','9']):\n",
    "    p = 0\n",
    "    s = ''\n",
    "    while p<l:\n",
    "        import random\n",
    "        s += random.choice(a)\n",
    "        p += 1\n",
    "    return s\n",
    "\n",
    "def BatchStringGenerator(n, a=8, b=12):\n",
    "    r = []\n",
    "    for i in range(n):\n",
    "        c = None\n",
    "        if a < b:\n",
    "            import random\n",
    "            c = random.choice(range(a, b))\n",
    "        elif a == b:\n",
    "            c = a\n",
    "        else:\n",
    "            import sys\n",
    "            sys.exit('Incorrect min and max string lengths. Try again.')\n",
    "        r.append(RandomStringGenerator(c))\n",
    "    return r\n",
    "\n",
    "a = input('Enter minimum string length: ')\n",
    "b = input('Enter maximum string length: ')\n",
    "n = input('How many random strings to generate? ')\n",
    "\n",
    "print(BatchStringGenerator(int(n), int(a), int(b)))"
   ]
  },
  {
   "cell_type": "markdown",
   "metadata": {},
   "source": [
    "# Modified Code"
   ]
  },
  {
   "cell_type": "code",
   "execution_count": 123,
   "metadata": {},
   "outputs": [
    {
     "name": "stdout",
     "output_type": "stream",
     "text": [
      "Enter minimum string length: 10\n",
      "Enter maximum string length: 15\n",
      "How many random strings to generate? 3\n"
     ]
    },
    {
     "data": {
      "text/plain": [
       "['0uz7mfg8z23vg', 'levfhrw588k', 'tzoc519s35']"
      ]
     },
     "execution_count": 123,
     "metadata": {},
     "output_type": "execute_result"
    }
   ],
   "source": [
    "def randomString():\n",
    "    # import needed libraries\n",
    "    import string\n",
    "    import random\n",
    "    \n",
    "    try:\n",
    "        # user input\n",
    "        a = int(input('Enter minimum string length: '))\n",
    "        b = int(input('Enter maximum string length: '))\n",
    "        n = int(input('How many random strings to generate? '))\n",
    "        # creates a str with all possible chars and digits\n",
    "        allchars = string.ascii_lowercase + string.digits\n",
    "        strList = []\n",
    "        for i in range(n):\n",
    "            # creates a randomly generated str\n",
    "            strOutput = \"\".join(random.choice(allchars) for x in range(random.randint(a, b)))\n",
    "            strList.append((strOutput))\n",
    "    except:\n",
    "        print('Something went wrong...Try again...\\n\\n')\n",
    "        randomString()\n",
    "    else:\n",
    "        return strList\n",
    "\n",
    "randomString()"
   ]
  },
  {
   "cell_type": "code",
   "execution_count": null,
   "metadata": {},
   "outputs": [],
   "source": []
  }
 ],
 "metadata": {
  "kernelspec": {
   "display_name": "Python 3",
   "language": "python",
   "name": "python3"
  },
  "language_info": {
   "codemirror_mode": {
    "name": "ipython",
    "version": 3
   },
   "file_extension": ".py",
   "mimetype": "text/x-python",
   "name": "python",
   "nbconvert_exporter": "python",
   "pygments_lexer": "ipython3",
   "version": "3.7.0"
  }
 },
 "nbformat": 4,
 "nbformat_minor": 2
}
