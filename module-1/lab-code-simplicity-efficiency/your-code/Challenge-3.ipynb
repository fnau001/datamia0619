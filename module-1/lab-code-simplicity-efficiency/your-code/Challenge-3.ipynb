{
 "cells": [
  {
   "cell_type": "markdown",
   "metadata": {},
   "source": [
    "# Original Code"
   ]
  },
  {
   "cell_type": "code",
   "execution_count": 1,
   "metadata": {},
   "outputs": [
    {
     "name": "stdin",
     "output_type": "stream",
     "text": [
      "What is the maximal length of the triangle side? Enter a number:  15\n"
     ]
    },
    {
     "name": "stdout",
     "output_type": "stream",
     "text": [
      "--- 0.0001468658447265625 seconds ---\n",
      "The longest side possible is 13\n"
     ]
    }
   ],
   "source": [
    "import time\n",
    "\n",
    "\"\"\"\n",
    "You are presented with an integer number larger than 5. Your goal is to identify the longest side\n",
    "possible in a right triangle whose sides are not longer than the number you are given.\n",
    "\n",
    "For example, if you are given the number 15, there are 3 possibilities to compose right triangles:\n",
    "\n",
    "1. [3, 4, 5]\n",
    "2. [6, 8, 10]\n",
    "3. [5, 12, 13]\n",
    "\n",
    "The following function shows one way to solve the problem but the code is not ideal or efficient.\n",
    "Refactor the code based on what you have learned about code simplicity and efficiency.\n",
    "\"\"\"\n",
    "\n",
    "def my_function(X):\n",
    "    start_time = time.time()\n",
    "    solutions = []\n",
    "    for x in range(5, X):\n",
    "        for y in range(4, X):\n",
    "            for z in range(3, X):\n",
    "                if (x*x==y*y+z*z):\n",
    "                  solutions.append([x, y, z])\n",
    "    m = 0\n",
    "    for solution in solutions:\n",
    "        if m < max(solution):\n",
    "            m = max(solution)\n",
    "    print(\"--- %s seconds ---\" % (time.time() - start_time))\n",
    "    return m\n",
    "\n",
    "X = input(\"What is the maximal length of the triangle side? Enter a number: \")\n",
    "\n",
    "print(\"The longest side possible is \" + str(my_function(int(X))))\n"
   ]
  },
  {
   "cell_type": "markdown",
   "metadata": {},
   "source": [
    "# Modified Code"
   ]
  },
  {
   "cell_type": "code",
   "execution_count": null,
   "metadata": {},
   "outputs": [],
   "source": [
    "import numpy as np\n",
    "import time \n",
    "def gen_prim_pyth_trips(limit=None):\n",
    "    start_time = time.time()\n",
    "    u = np.mat(' 1  2  2; -2 -1 -2; 2 2 3')\n",
    "    a = np.mat(' 1  2  2;  2  1  2; 2 2 3')\n",
    "    d = np.mat('-1 -2 -2;  2  1  2; 2 2 3')\n",
    "    uad = np.array([u, a, d])\n",
    "    m = np.array([3, 4, 5])\n",
    "    while m.size:\n",
    "        m = m.reshape(-1, 3)\n",
    "        if limit:\n",
    "            m = m[m[:, 2] <= limit]\n",
    "        yield from m\n",
    "        m = np.dot(m, uad)\n",
    "    print(\"--- %s seconds ---\" % (time.time() - start_time))\n",
    "    \n",
    "x = int(input(\"What is the maximal length of the triangle side? Enter a number: \"))\n",
    "soln = lambda x: max(list(gen_prim_pyth_trips(x))[-1])\n",
    "\n",
    "soln(x)"
   ]
  },
  {
   "cell_type": "code",
   "execution_count": null,
   "metadata": {},
   "outputs": [],
   "source": [
    "def"
   ]
  },
  {
   "cell_type": "code",
   "execution_count": null,
   "metadata": {},
   "outputs": [],
   "source": []
  }
 ],
 "metadata": {
  "kernelspec": {
   "display_name": "Python 3",
   "language": "python",
   "name": "python3"
  },
  "language_info": {
   "codemirror_mode": {
    "name": "ipython",
    "version": 3
   },
   "file_extension": ".py",
   "mimetype": "text/x-python",
   "name": "python",
   "nbconvert_exporter": "python",
   "pygments_lexer": "ipython3",
   "version": "3.7.0"
  }
 },
 "nbformat": 4,
 "nbformat_minor": 2
}
