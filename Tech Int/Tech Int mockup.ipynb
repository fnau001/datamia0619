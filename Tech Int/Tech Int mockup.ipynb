{
 "cells": [
  {
   "cell_type": "markdown",
   "metadata": {},
   "source": [
    "# Technical Test \n",
    "\n",
    "This file needs to be filled and sent back within 8 hours. It does not require strong programming skills or math knowledge. \n",
    "\n",
    "We __are not__ evaluating your personal skills. We want to see how good will you match to your group.\n",
    "\n",
    "Press Shift+Enter every time you want to run the code\n",
    "\n",
    "### Who are you\n",
    "\n",
    "Here please answer several questions, so we could know you better."
   ]
  },
  {
   "cell_type": "code",
   "execution_count": 1,
   "metadata": {},
   "outputs": [
    {
     "name": "stdout",
     "output_type": "stream",
     "text": [
      "Your first name: Eldiias\n"
     ]
    }
   ],
   "source": [
    "name=input('Your first name: ')\n",
    "N=len(name)"
   ]
  },
  {
   "cell_type": "code",
   "execution_count": 2,
   "metadata": {
    "code_folding": [
     2
    ]
   },
   "outputs": [
    {
     "name": "stdout",
     "output_type": "stream",
     "text": [
      "What programming languages have you ever worked with? Use comma as separator Nothing\n"
     ]
    }
   ],
   "source": [
    "background=input('What programming languages have you ever worked with? Use comma as separator ')\n",
    "L=background.count(',')+1\n",
    "if L<2:\n",
    "    L=3"
   ]
  },
  {
   "cell_type": "markdown",
   "metadata": {
    "variables": {
     "name": "Eldiias"
    }
   },
   "source": [
    "___\n",
    "\n",
    "### Math part for {{name}}\n",
    "\n",
    "With the following tasks we want to see how fast you will deepen into the course. Result of the interview will not depend on the correctness of your answers\n",
    "\n",
    "#### 1. Rounding\n",
    "Rounding a number means replacing it with a different number that is approximately equal to the original, but has a shorter, simpler, or more explicit representation; for example, replacing \\\\$23.4476 with \\\\$23.45, or the fraction 312/937 with 1/3, or the expression $\\sqrt{2}$ with 1.414.\n",
    "\n",
    "There are several rules of rounding: down and up, to the nearest integer,etc. Round the following values, using any of those rules (same rule for all the values):\n",
    "\n"
   ]
  },
  {
   "cell_type": "code",
   "execution_count": 3,
   "metadata": {
    "code_folding": []
   },
   "outputs": [],
   "source": [
    "\"\"\"Run this code as it is\"\"\"\n",
    "from IPython.display import display\n",
    "from ipywidgets import widgets\n",
    "\n",
    "def Round(func):\n",
    "    x=widgets.IntText(\n",
    "        value=3,\n",
    "        description=str(func),\n",
    "        disabled=False\n",
    "    )\n",
    "    return(x)"
   ]
  },
  {
   "cell_type": "code",
   "execution_count": 4,
   "metadata": {},
   "outputs": [
    {
     "data": {
      "application/vnd.jupyter.widget-view+json": {
       "model_id": "7d0ba9dbc46e485f9036dfc3d1b4ea90",
       "version_major": 2,
       "version_minor": 0
      },
      "text/plain": [
       "IntText(value=3, description='4.0')"
      ]
     },
     "metadata": {},
     "output_type": "display_data"
    }
   ],
   "source": [
    "x1=Round((N+1)/2)\n",
    "display(x1)"
   ]
  },
  {
   "cell_type": "code",
   "execution_count": 5,
   "metadata": {},
   "outputs": [
    {
     "data": {
      "application/vnd.jupyter.widget-view+json": {
       "model_id": "079b967f490346f5a576f378c33a0644",
       "version_major": 2,
       "version_minor": 0
      },
      "text/plain": [
       "IntText(value=3, description='3.5')"
      ]
     },
     "metadata": {},
     "output_type": "display_data"
    }
   ],
   "source": [
    "x2=Round((N)/2)\n",
    "display(x2)"
   ]
  },
  {
   "cell_type": "code",
   "execution_count": 6,
   "metadata": {},
   "outputs": [
    {
     "data": {
      "application/vnd.jupyter.widget-view+json": {
       "model_id": "fce07efb4df04a61b98f30276f984a72",
       "version_major": 2,
       "version_minor": 0
      },
      "text/plain": [
       "IntText(value=3, description='0.6481481481481481')"
      ]
     },
     "metadata": {},
     "output_type": "display_data"
    }
   ],
   "source": [
    "x3=Round(((N+L)*(N+7)/8)/(L**3))\n",
    "display(x3)"
   ]
  },
  {
   "cell_type": "code",
   "execution_count": 7,
   "metadata": {},
   "outputs": [
    {
     "data": {
      "application/vnd.jupyter.widget-view+json": {
       "model_id": "e767ec8d37514f2b8f0f0db6b48e5bfc",
       "version_major": 2,
       "version_minor": 0
      },
      "text/plain": [
       "IntText(value=3, description='-4.403846153846154')"
      ]
     },
     "metadata": {},
     "output_type": "display_data"
    }
   ],
   "source": [
    "x4=Round(((N*L)*(N+7)/8)/(L**2-100)-4)\n",
    "display(x4)"
   ]
  },
  {
   "cell_type": "code",
   "execution_count": 8,
   "metadata": {},
   "outputs": [
    {
     "data": {
      "application/vnd.jupyter.widget-view+json": {
       "model_id": "a7d871b7a963473092b46a95057dfca3",
       "version_major": 2,
       "version_minor": 0
      },
      "text/plain": [
       "IntText(value=3, description='13.450980392156865')"
      ]
     },
     "metadata": {},
     "output_type": "display_data"
    }
   ],
   "source": [
    "x5=Round(((N/(L/7))*(N+7)/17))\n",
    "display(x5)"
   ]
  },
  {
   "cell_type": "markdown",
   "metadata": {},
   "source": [
    "### Solution"
   ]
  },
  {
   "cell_type": "code",
   "execution_count": 9,
   "metadata": {
    "code_folding": [
     1
    ]
   },
   "outputs": [
    {
     "name": "stdout",
     "output_type": "stream",
     "text": [
      "Not this time\n",
      "Not this time\n",
      "Correct\n"
     ]
    }
   ],
   "source": [
    "import math\n",
    "def round_half_up(n, decimals=0):\n",
    "    multiplier = 10 ** decimals\n",
    "    return math.floor(n*multiplier + 0.5) / multiplier\n",
    "\n",
    "functions = [math.ceil, math.floor, round_half_up]\n",
    "values=[(N+1)/2,N/2,((N+L)*(N+7)/8)/(L**3),((N*L)*(N+7)/8)/(L**2-100)-4,((N/(L/7))*(N+7)/17)]\n",
    "s_values=[x1.value,x2.value,x3.value,x4.value,x5.value]\n",
    "\n",
    "for func in functions:\n",
    "    a=[]\n",
    "    for value in values:\n",
    "        a.append(func(value))\n",
    "    if a==s_values:\n",
    "        print(\"Correct\")\n",
    "        break\n",
    "    else:\n",
    "        print(\"Not this time\")\n"
   ]
  },
  {
   "cell_type": "markdown",
   "metadata": {},
   "source": [
    "#### 2. Probability\n",
    "\n",
    "Among the Preparation Materials you had topics covering Probability.\n",
    "Please solve the following task:\n",
    "\n",
    "\n",
    "A bag contains 2 blue balls, 5 red balls, and 3 white balls.\n",
    "You pick a ball from the bag and put in your pocket. What is the probability of picking:\n"
   ]
  },
  {
   "cell_type": "code",
   "execution_count": 16,
   "metadata": {},
   "outputs": [],
   "source": [
    "\"\"\"Run this code as it is\"\"\"\n",
    "from IPython.display import display\n",
    "from ipywidgets import widgets\n",
    "\n",
    "def Float(func):\n",
    "    style = {'description_width': 'initial'}\n",
    "    x=widgets.BoundedFloatText(\n",
    "        value=0.5,\n",
    "        min=0.0,\n",
    "        max=1.0,\n",
    "        step=0.1,\n",
    "        description=func,\n",
    "        disabled=False,\n",
    "        style=style\n",
    "    )\n",
    "    return(x)"
   ]
  },
  {
   "cell_type": "code",
   "execution_count": 17,
   "metadata": {},
   "outputs": [
    {
     "data": {
      "application/vnd.jupyter.widget-view+json": {
       "model_id": "7f54b404a28a4ee7ba9933f1d128fb84",
       "version_major": 2,
       "version_minor": 0
      },
      "text/plain": [
       "BoundedFloatText(value=0.5, description='white ball?', max=1.0, step=0.1, style=DescriptionStyle(description_w…"
      ]
     },
     "metadata": {},
     "output_type": "display_data"
    }
   ],
   "source": [
    "x1=Float('white ball?')\n",
    "display(x1)"
   ]
  },
  {
   "cell_type": "code",
   "execution_count": 18,
   "metadata": {},
   "outputs": [
    {
     "data": {
      "application/vnd.jupyter.widget-view+json": {
       "model_id": "3482183d8a9a453b87dffdafe278f07d",
       "version_major": 2,
       "version_minor": 0
      },
      "text/plain": [
       "BoundedFloatText(value=0.5, description='blue or red ball?', max=1.0, step=0.1, style=DescriptionStyle(descrip…"
      ]
     },
     "metadata": {},
     "output_type": "display_data"
    }
   ],
   "source": [
    "x2=Float('blue or red ball?')\n",
    "display(x2)"
   ]
  },
  {
   "cell_type": "code",
   "execution_count": 19,
   "metadata": {},
   "outputs": [
    {
     "data": {
      "application/vnd.jupyter.widget-view+json": {
       "model_id": "d06c59e3cd19420f8a377dea0630147d",
       "version_major": 2,
       "version_minor": 0
      },
      "text/plain": [
       "BoundedFloatText(value=0.5, description='2 red balls?', max=1.0, step=0.1, style=DescriptionStyle(description_…"
      ]
     },
     "metadata": {},
     "output_type": "display_data"
    }
   ],
   "source": [
    "x3=Float('2 red balls?')\n",
    "display(x3)"
   ]
  },
  {
   "cell_type": "code",
   "execution_count": 20,
   "metadata": {},
   "outputs": [
    {
     "data": {
      "application/vnd.jupyter.widget-view+json": {
       "model_id": "76a4099e1ffd4d6ca9f8ce2ba3222ed4",
       "version_major": 2,
       "version_minor": 0
      },
      "text/plain": [
       "BoundedFloatText(value=0.5, description='blue and white balls?', max=1.0, step=0.1, style=DescriptionStyle(des…"
      ]
     },
     "metadata": {},
     "output_type": "display_data"
    }
   ],
   "source": [
    "x4=Float('blue and white balls?')\n",
    "display(x4)"
   ]
  },
  {
   "cell_type": "markdown",
   "metadata": {},
   "source": [
    "### Solution"
   ]
  },
  {
   "cell_type": "code",
   "execution_count": 25,
   "metadata": {},
   "outputs": [
    {
     "name": "stdout",
     "output_type": "stream",
     "text": [
      "Not this time\n",
      "Correct\n"
     ]
    }
   ],
   "source": [
    "values=[[0.3,0.7,0,0],[0.3,0.7,0.22,0.13]]\n",
    "s_values=[x1.value,x2.value,x3.value,x4.value]\n",
    "\n",
    "for value in values:\n",
    "    if value==s_values:\n",
    "        print(\"Correct\")\n",
    "    else:\n",
    "        print(\"Not this time\")"
   ]
  },
  {
   "cell_type": "markdown",
   "metadata": {
    "variables": {
     "name": "Eldiias"
    }
   },
   "source": [
    "___\n",
    "\n",
    "### Coding part for {{name}}\n",
    "\n"
   ]
  },
  {
   "cell_type": "code",
   "execution_count": null,
   "metadata": {},
   "outputs": [],
   "source": []
  }
 ],
 "metadata": {
  "kernelspec": {
   "display_name": "Python 3",
   "language": "python",
   "name": "python3"
  },
  "language_info": {
   "codemirror_mode": {
    "name": "ipython",
    "version": 3
   },
   "file_extension": ".py",
   "mimetype": "text/x-python",
   "name": "python",
   "nbconvert_exporter": "python",
   "pygments_lexer": "ipython3",
   "version": "3.6.8"
  }
 },
 "nbformat": 4,
 "nbformat_minor": 2
}
